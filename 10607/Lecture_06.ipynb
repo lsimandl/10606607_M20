{
 "cells": [
  {
   "cell_type": "markdown",
   "metadata": {},
   "source": [
    "# Recursion\n",
    "Based on [Iteration, Induction and Recursion chapter by Al Aho and Jeff Ullman](http://infolab.stanford.edu/~ullman/focs/ch02.pdf).\n",
    "\n",
    "### Writing a program recursively"
   ]
  },
  {
   "cell_type": "code",
   "execution_count": 28,
   "metadata": {
    "collapsed": true
   },
   "outputs": [],
   "source": [
    "def factorial(n):\n",
    "    if n < 2:\n",
    "        return 1\n",
    "    else:\n",
    "        return n * factorial(n-1)"
   ]
  },
  {
   "cell_type": "markdown",
   "metadata": {},
   "source": [
    "Proof by induction refresher:\n",
    "- Proove that $\\sum_{i=1}^n i = n(n+1)/2$\n",
    "- Geometric series: $\\sum_{i=1}^n ar^i = \\frac{(ar^n - a)}{(r-1)}$ if $0<a<1$ or $a>1$.\n",
    "- Complete induction: sometimes we need to assume that the assumption holds for all $n_i\\len$.\n",
    "- Sometimes you need to proove multiple base cases: e.g. S(n):There are integers a and b (positive, negative, or 0) such that n = 2a + 3b.\n",
    "\n",
    "\n",
    "### Selection sort"
   ]
  },
  {
   "cell_type": "code",
   "execution_count": 39,
   "metadata": {
    "collapsed": false
   },
   "outputs": [
    {
     "name": "stdout",
     "output_type": "stream",
     "text": [
      "[1, 2, 3, 5]\n"
     ]
    }
   ],
   "source": [
    "\n",
    "def selection_sort(a):\n",
    "    n = len(a)\n",
    "    for i in range(n):\n",
    "        small = i\n",
    "        for j in range(i+1,n):\n",
    "            if a[j] < a[small]:\n",
    "                small = j\n",
    "        temp = a[small]\n",
    "        a[small] = a[i]\n",
    "        a[i] = temp\n",
    "    print(a)\n",
    "                \n",
    "                \n",
    "\n",
    "selection_sort([2,1,3,5])"
   ]
  },
  {
   "cell_type": "code",
   "execution_count": 50,
   "metadata": {
    "collapsed": false
   },
   "outputs": [
    {
     "name": "stdout",
     "output_type": "stream",
     "text": [
      "[2, 4, 7, 9]\n"
     ]
    }
   ],
   "source": [
    "# recursive implementation\n",
    "\n",
    "def recursive_selection_sort(a, i, n):\n",
    "    if i < n-1:\n",
    "        small = i\n",
    "        # find minimum\n",
    "        for j in range(i+1,n):\n",
    "            if a[j] < a[small]:\n",
    "                small = j\n",
    "        temp = a[small]\n",
    "        a[small] = a[i]\n",
    "        a[i] = temp\n",
    "        recursive_selection_sort(a, i+1, n)\n",
    "    else:    \n",
    "        print(a)\n",
    "\n",
    "recursive_selection_sort([9,7,4,2],0,4)"
   ]
  },
  {
   "cell_type": "markdown",
   "metadata": {},
   "source": [
    "## Merge Sort\n",
    "\n",
    "Divide and conquer principle: break the problem down into smaller problems and then combining their solutions. "
   ]
  },
  {
   "cell_type": "code",
   "execution_count": 6,
   "metadata": {
    "collapsed": false
   },
   "outputs": [
    {
     "name": "stdout",
     "output_type": "stream",
     "text": [
      "[  2.   6.   9.  31.]\n"
     ]
    }
   ],
   "source": [
    "import numpy as np\n",
    "\n",
    "def merge(arr1,arr2):\n",
    "    new_arr = np.zeros(len(arr1)+len(arr2))\n",
    "    i = 0\n",
    "    j = 0\n",
    "    k = 0\n",
    "    while i<len(arr1) and j<len(arr2):\n",
    "        if arr1[i]<arr2[j]:\n",
    "            new_arr[k] = arr1[i]\n",
    "            i+=1\n",
    "        else:\n",
    "            new_arr[k] = arr2[j]\n",
    "            j+=1\n",
    "        k+=1\n",
    "    # if there are remaining elements:\n",
    "    while i<len(arr1):\n",
    "        new_arr[k] = arr1[i]\n",
    "        i+=1\n",
    "    while j<len(arr2):\n",
    "        new_arr[k] = arr2[j]\n",
    "        j+=1\n",
    "    return new_arr\n",
    "    \n",
    "\n",
    "def merge_sort(arr):\n",
    "    if len(arr)>2:\n",
    "        middle = int(len(arr)/2)\n",
    "        arr1 = arr[:middle]\n",
    "        arr2 = arr[middle:]\n",
    "        merge_sort(arr1)\n",
    "        merge_sort(arr2)\n",
    "        arr = merge(arr1,arr2)\n",
    "    return arr\n",
    "        \n",
    "\n",
    "a = [2,31,6,9]\n",
    "\n",
    "print(merge_sort(a))"
   ]
  },
  {
   "cell_type": "markdown",
   "metadata": {
    "collapsed": true
   },
   "source": [
    "# Dynamic programing\n",
    "Based on [dynamic programing lecture notes by Avrim Blum and Anupam Gupta](https://www.cs.cmu.edu/~avrim/451f13/lectures/lect0926.pdf)\n",
    "\n",
    "\n",
    "Dynamic programing is an efficient way to solve problems that can take a long time (e.g. exponential running time) by dividing them into a set of smaller problems (for example $n^2$ problems). The optimal solutions of each subproblem are stored and used to find the optimal solution for the larger problem. Unlike divide and conquer, these problems can overlap. \n",
    "\n",
    "\n",
    "### Example: Longest Common Subsequence\n",
    "\n",
    "Given two strings, find the longest sequence of characters (not necessarily coniguous) that are shared between the string.\n",
    "\n",
    "For example, for the following two strings, the string ADAB, of length 4, is the longest common subsequence:\n",
    "S = ABAZDC\n",
    "T = BACBAD\n",
    "\n",
    "\n",
    "Bottom-up approach: Start at the beginning of the strings and grow letter by letter. At every step [i,j], we consider the solution of comparing S[1..i] and T[1..j] in terms of the smaller problems S[1..i] and T[1..j-1], S[1..i-1] and T[1..j], and S[1..i-1] and T[1..j-1].\n",
    "\n",
    "- Case 1: If S[i] $\\ne$ T[j], we have to ignore one of S[i] or T[j]. \n",
    "We have : \n",
    "       LCS[i, j] = max(LCS[i − 1, j], LCS[i, j − 1]).\n",
    "- Case 2: If S[i] = T[j], then the LCS of S[1..i] and T[1..j] might as well match them up.\n",
    "(If an easlier subsequence matches S[i] to an earlier location in T, for instance, we can always match S[i] to T[j] instead). Therefore we have:\n",
    "       LCS[i, j] = 1 + LCS[i − 1, j − 1].\n",
    "\n",
    "\n",
    "\n",
    "|   | B  | A  | C  | B  | A  |  D |\n",
    "|---|---|---|---|---|---|---|\n",
    "| A |   |   |   |   |   |   |\n",
    "| B |   |   |   |   |   |   |\n",
    "| A |   |   |   |   |   |   |\n",
    "| Z |   |   |   |   |   |   |\n",
    "| D |   |   |   |   |   |   |\n",
    "| C |   |   |   |   |   |   |   |\n",
    "\n",
    "\n",
    "Filling this matrix requires a constant amount of work per entry, leading to an O(mn) time overall. To find the shortest subsequene, we can start at the lower right, and traverse back. If the cell above or to the right has the same value we move to it. If both have a value striclty less than the current value, we are in case 2, and we pick the current letter as part of the subsequence and move up diagonally. \n",
    "\n",
    "Top-down approach: the top down approach consists in starting at the end and working backwards by recursion. Saving the intermediate results in a table is an important step and allows the algorithm to take O(mn) steps. Bottom-up and top-down end up being very similar. "
   ]
  },
  {
   "cell_type": "code",
   "execution_count": 14,
   "metadata": {
    "collapsed": false
   },
   "outputs": [
    {
     "name": "stdout",
     "output_type": "stream",
     "text": [
      "[[ nan   1.   1.  nan  nan  nan]\n",
      " [  1.   1.   1.   2.  nan  nan]\n",
      " [  1.   2.   2.   2.   3.  nan]\n",
      " [  1.   2.   2.   2.   3.  nan]\n",
      " [  1.   2.   2.   2.   3.   4.]\n",
      " [ nan  nan   3.   3.   3.   4.]]\n"
     ]
    }
   ],
   "source": [
    "T = 'BACBAD'\n",
    "S = 'ABAZDC'\n",
    "\n",
    "n = len(S)\n",
    "m = len(T)\n",
    "arr = np.zeros((n,m))\n",
    "arr[:] = np.nan\n",
    "\n",
    "def LCS(S,T,i,j,arr):\n",
    "    if i==-1 or j==-1:\n",
    "        return 0\n",
    "    if not np.isnan(arr[i,j]):\n",
    "        return arr[i,j]\n",
    "    if S[i]==T[j]:\n",
    "        arr[i,j] = 1 + LCS(S,T,i-1,j-1,arr)\n",
    "    else:\n",
    "        arr[i,j] = max(LCS(S,T,i-1,j,arr),LCS(S,T,i,j-1,arr))\n",
    "    return arr[i,j]\n",
    "        \n",
    "LCS(S,T,5,5,arr)\n",
    "print(arr)"
   ]
  },
  {
   "cell_type": "code",
   "execution_count": 28,
   "metadata": {
    "collapsed": false
   },
   "outputs": [
    {
     "data": {
      "text/plain": [
       "'ABAD'"
      ]
     },
     "execution_count": 28,
     "metadata": {},
     "output_type": "execute_result"
    }
   ],
   "source": [
    "# trace back\n",
    "\n",
    "def sequence(S,T,i,j,arr):\n",
    "    if i==-1 or j==-1:\n",
    "        return ''\n",
    "    if np.isnan(arr[i,j-1]):\n",
    "        up = arr[i,j]-1\n",
    "    else:\n",
    "        up = arr[i,j-1]\n",
    "    if np.isnan(arr[i-1,j]):\n",
    "        left = arr[i,j]-1\n",
    "    else:\n",
    "        left = arr[i-1,j]\n",
    "    if (arr[i,j]>up and arr[i,j]>left):\n",
    "        return sequence(S,T,i-1,j-1,arr)+ S[i]\n",
    "    elif arr[i,j]==left:\n",
    "        return sequence(S,T,i-1,j,arr)\n",
    "    else:\n",
    "        return sequence(S,T,i,j-1,arr)\n",
    "\n",
    "\n",
    "sequence(S,T,5,5,arr)    "
   ]
  },
  {
   "cell_type": "markdown",
   "metadata": {},
   "source": [
    "### Example 2: Knapsack problem\n",
    "\n",
    "We want to fix n objects, each with size $s_i$ and value $v_i$. We want to fit a set of those objects in a knapsack with total size $S$ and pick the objects that have the maximal total value.\n",
    "\n",
    "\n",
    "Example, problems on a homework:\n",
    "\n",
    "|   | A  | B  | C  | D  | E  |  F |  G  |\n",
    "|---|---|---|---|---|---|---|---|\n",
    "| value | 7  |  9 | 5  | 12  |  14 |  6 | 12 |\n",
    "| time | 3  | 4 | 2  |  6  |  7 |  3 | 5 |\n",
    "\n",
    "If you have 15 hours, which problems should you do?\n",
    "\n",
    "Starting with the last item, compate the value of adding that item, with the value of not adding that item and reserving the size for the best combination of the other items.\n",
    "\n",
    "This is O(nS)."
   ]
  },
  {
   "cell_type": "code",
   "execution_count": 41,
   "metadata": {
    "collapsed": false
   },
   "outputs": [
    {
     "name": "stdout",
     "output_type": "stream",
     "text": [
      "[[ nan   0.   0.   7.   7.   7.   7.   7.   7.   7.   7.   7.   7.   7.\n",
      "   nan   7.]\n",
      " [ nan   0.   0.   7.   9.   9.   9.  16.  16.  16.  16.  nan  16.  16.\n",
      "   nan  16.]\n",
      " [ nan   0.   5.   7.   9.  12.  14.  16.  16.  21.  21.  nan  21.  nan\n",
      "   nan  21.]\n",
      " [ nan  nan  nan   7.  nan  12.  nan  16.  17.  nan  21.  nan  26.  nan\n",
      "   nan  33.]\n",
      " [ nan  nan  nan  nan  nan  nan  nan  16.  nan  nan  21.  nan  26.  nan\n",
      "   nan  33.]\n",
      " [ nan  nan  nan  nan  nan  nan  nan  nan  nan  nan  22.  nan  nan  nan\n",
      "   nan  33.]\n",
      " [ nan  nan  nan  nan  nan  nan  nan  nan  nan  nan  nan  nan  nan  nan\n",
      "   nan  34.]]\n"
     ]
    }
   ],
   "source": [
    "value = [7  ,  9 , 5  , 12  ,  14 ,  6 , 12]\n",
    "time = [ 3 , 4 , 2  ,  6  ,  7 ,  3 , 5]\n",
    "\n",
    "n = len(value)\n",
    "S = 15\n",
    "arr = np.zeros((n,S+1))\n",
    "arr[:] = np.nan\n",
    "\n",
    "def knapsack(value,time,i,j,arr):\n",
    "    if i==-1 or j==0:\n",
    "        return 0\n",
    "    if not np.isnan(arr[i,j]):\n",
    "        return arr[i,j]\n",
    "    if time[i] > j:\n",
    "        arr[i,j] = knapsack(value,time,i-1,j,arr)\n",
    "    else:\n",
    "        arr[i,j] = max (value[i]+ knapsack(value,time,i-1,j-time[i],arr), knapsack(value,time,i-1,j,arr))\n",
    "    return arr[i,j]\n",
    "        \n",
    "knapsack(value,time,6,15,arr)\n",
    "print(arr)\n"
   ]
  },
  {
   "cell_type": "code",
   "execution_count": 48,
   "metadata": {
    "collapsed": false
   },
   "outputs": [
    {
     "name": "stdout",
     "output_type": "stream",
     "text": [
      "2 22.0\n",
      "2 16.0\n",
      "1\n",
      "1\n",
      "1\n",
      "2 7.0\n",
      "2 nan\n",
      "0\n"
     ]
    },
    {
     "data": {
      "text/plain": [
       "' 0  1  5  6 '"
      ]
     },
     "execution_count": 48,
     "metadata": {},
     "output_type": "execute_result"
    }
   ],
   "source": [
    "# trace back\n",
    "\n",
    "def items_list(S,T,i,j,arr):\n",
    "    if i==-1 or j==0:\n",
    "        return ''\n",
    "    if arr[i,j] == arr[i-1,j]: # we didn't use this item\n",
    "        return items_list(S,T,i-1,j,arr)\n",
    "    else:\n",
    "        return items_list(S,T,i-1,j-time[i],arr) + ' {} '.format(i)\n",
    "\n",
    "\n",
    "items_list(S,T,6,15,arr)    "
   ]
  },
  {
   "cell_type": "code",
   "execution_count": null,
   "metadata": {
    "collapsed": true
   },
   "outputs": [],
   "source": []
  }
 ],
 "metadata": {
  "kernelspec": {
   "display_name": "Python 3",
   "language": "python",
   "name": "python3"
  },
  "language_info": {
   "codemirror_mode": {
    "name": "ipython",
    "version": 3
   },
   "file_extension": ".py",
   "mimetype": "text/x-python",
   "name": "python",
   "nbconvert_exporter": "python",
   "pygments_lexer": "ipython3",
   "version": "3.5.2"
  }
 },
 "nbformat": 4,
 "nbformat_minor": 1
}
