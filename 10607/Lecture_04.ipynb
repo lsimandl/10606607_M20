{
 "cells": [
  {
   "cell_type": "markdown",
   "metadata": {},
   "source": [
    "# Computational Complexity, Big O notation\n",
    "Lecture based on [The Running Time of Programs chapter by Al Aho and Jeff Ullman](http://infolab.stanford.edu/~ullman/focs/ch03.pdf) and [Matt Gormley's slides](http://www.cs.cmu.edu/~mgormley/courses/606-607-f18/slides607/lecture5-complexity.pdf).\n",
    "\n",
    "Learning Outcomes:\n",
    "- Know how the running time of a program is computed.\n",
    "- Understand Big O notation and how to prove a function is Big O or not Big O of another."
   ]
  },
  {
   "cell_type": "markdown",
   "metadata": {},
   "source": [
    "When designing algorithms, we want to know if these algorithms run in a reasonable amount of time and space. We want to know if we can make them more efficient and which part of the algorithm we should focus on making more efficient.\n",
    "\n",
    "We would also like to be able to compare different algorithm and find our which one is less computationally expensive.\n",
    "\n",
    "### Big O notation\n",
    "\n",
    "How many program operations are required to compute:\n",
    "- Euclidean norm of vector\n",
    "- Vector dot product \n",
    "- Frobenius norm of matrix\n",
    "- Vector-matrix multiplication \n",
    "- Matrix-matrix multiplication\n",
    "\n",
    "\n",
    "1. Arithmetic operations (e.g. + or %).\n",
    "2. Logical operations (e.g., &&).\n",
    "3. Comparison operations (e.g., <=).\n",
    "4. Structure accessing operations (e.g. array-indexing like A[i], or pointer following with the -> operator).\n",
    "5. Simple assignment such as copying a value into a variable.\n",
    "6. Calls to library functions (e.g., scanf, printf)\n",
    "7. Control Statements (e.g. if X>5)\n",
    "\n",
    "`def norm(a):\n",
    "    assert type(a)==type([])\n",
    "    assert len(a)>0\n",
    "    ss=0\n",
    "    for i in range(len(a)):\n",
    "        ss = ss + a[i]*a[i]\n",
    "    norm = np.sqrt(ss)\n",
    "    return norm`"
   ]
  },
  {
   "cell_type": "markdown",
   "metadata": {},
   "source": [
    "#### Definition of Big O\n",
    "Let $T(n)$ be a function, be the running time of some program as a function of the input size n. We  assume that\n",
    "1. n is an integer $\\ge0$\n",
    "2. $T (n)$ $\\ge0$ for all $n$.\n",
    "\n",
    "$f(n)$ is a function defined on $n$. We say that \"$T (n)$ is $O(f(n))$\" if there exists a constant $c>0$ and an integer $n_0$ such that, for all integers $n\\ge n_0$, we have $T(n) \\le cf(n)$.\n",
    "\n",
    "##### Witnesses. \n",
    "\n",
    "$n_0$ and $c$ are called witnesses that $T(n)$ is $O(f(n))$. Finding such witnesses is a form of proof of $T(n)$ being $O(f(n))$.\n",
    "\n",
    "\n",
    "### Template for Big-Oh Proofs\n",
    "\n",
    "1. State the witnesses $n_0$ and $c$ as specific constants, e.g.,  $n_0=32$ and $c = 5$. \n",
    "2. By appropriate algebraic manipulation, show that if $n \\ge n_0$ then $T (n) \\le cf(n)$.\n",
    "\n",
    "Which of the following functions are in $O(n^2)$?\n",
    "1. $1$\n",
    "2. $n$\n",
    "3. $n log(n)$\n",
    "4. $n^2$\n",
    "5. $4n^2$\n",
    "6. $4n^2+ n log(n)$\n",
    "7. $4n2+ n log(n) + n$\n",
    "8. $n^3$\n",
    "9. $n^3+ n$"
   ]
  },
  {
   "cell_type": "markdown",
   "metadata": {},
   "source": [
    "##### Example: \n",
    "Suppose $T (0) = 1$, $T (1) = 4$, $T (2) = 9$, and in general $T (n) = (n+1)^2$. \n",
    "\n",
    "We can say that $T (n)$ or $O(n^2)$, by choosing witnesses $n_0 = 1$ and $c = 4$:\n",
    "- We expand $(n + 1)^2 = n^2+2n+1$\n",
    "- if $n \\ge 1$, we know that $n \\le n^2$ and $1 \\le n2$. Thus\n",
    "$n^2 + 2^n + 1 \\le n^2 + 2n^2 + n^2 = 4n^2$.\n",
    "\n",
    "We could have picked $n_0 = 3$ and $c=2$. However, we can't pick $n_0 = 0$ with any $c$ (why?). But that doesn't matter, be cause we only need to find one pair of witnesses $n_0$ and $c$.\n",
    " \n",
    "\n",
    "It may seem odd that even though $(n + 1)^2 > n^2$, $(n + 1)^2$ is $O(n^2)$. In fact, $(n + 1)^2$ is also big-O of any fraction\n",
    "of $n^2$, for example, $O(n^2/100)$ ($n_0 = 1$ and $c = 400$). \n",
    "\n",
    "\n",
    "More generally:\n",
    "\n",
    "1. Constant factors don’t matter. For any positive constant $d$ and any function that is $O(T (n))$ is also $O(dT(n)). (Choose $n_0 = 0$ and $c = 1/d$) \n",
    "\n",
    "2. Low-order terms don’t matter. Suppose a polynomial $T (n) = a_k n^k + a_{k−1}n^{k−1} + \\dots + a_2n^2 + a_1n + a_0$ where the leading coefficient, $a_k$, is positive. We can throw away all terms exceptthe term with the highest exponent, $k$, and, by rule (1), we can ignore  $a_k$, replacing it by 1. That is, we can conclude $T (n) is O(n^k)$. (To proove, choose n_0 = 1, and $c=\\sum_{i=0}^k a^i\\delta(a^i>0)$.)\n",
    "\n",
    "#### Proofs That a Big-Oh Relationship Does Not Hold\n",
    "The method of proof is to assume that witnesses $n_0$ and $c$ exist, and derive a contradiction. \n",
    "\n",
    "##### Example\n",
    "$n^2$ is not $O(n)$. \n",
    "\n",
    "- Suppose it was. Then there are $n_0$ and $c$ such that $n^2 \\le cn$ for all $n \\ge n_0$. \n",
    "- Now pick $n_a>max(n_0,c)+1$, then $(n_a)^2 ≤ cn_a$\n",
    "- Divide both sides by n_a: we have $n_a \\le c$$. Contradiction, therefore $n^2$ is not $O(n)$.\n",
    "\n",
    "\n",
    "1. Prove that $n^3$ is in $O(2^n)$\n",
    "2. Prove that $n^2 + 100$ is in $O(n4)$\n",
    "3. Prove that $1/4 n^2+ n log(n) + n$ is in $O(n^2)$\n",
    "\n",
    "\n",
    "Comparing Algorithm Runtimes\n",
    "\n",
    "- $O(1)$ constant\n",
    "- $O(log(n))$ logarithmic\n",
    "- $O(n)$ linear \n",
    "- $O(nlog(n))$ --\n",
    "- $O(n2)$ quadratic\n",
    "- $O(n3)$ cubic\n",
    "- $O(2^n)$ exponential\n",
    "- $O(n!)$ factorial\n",
    "- $O(n^n)$ superexponential\n",
    "\n",
    "\n",
    "There are some common rules you can use:\n",
    "\n",
    "- constant < logarithmic < polynomial < exponential < factorial < superexponential\n",
    "\n",
    "###### Computational Complexity of Matrix Multiplication\n",
    "Key idea: don’t count the exact number of operations!"
   ]
  },
  {
   "cell_type": "code",
   "execution_count": 24,
   "metadata": {
    "collapsed": false
   },
   "outputs": [],
   "source": [
    "import numpy as np\n",
    "import matplotlib.pyplot as plt\n",
    "%matplotlib inline\n"
   ]
  },
  {
   "cell_type": "code",
   "execution_count": 23,
   "metadata": {
    "collapsed": false
   },
   "outputs": [
    {
     "data": {
      "text/plain": [
       "<matplotlib.legend.Legend at 0x1095b4be0>"
      ]
     },
     "execution_count": 23,
     "metadata": {},
     "output_type": "execute_result"
    },
    {
     "data": {
      "image/png": "[encoded data removed]",
      "text/plain": [
       "<matplotlib.figure.Figure at 0x1095b4358>"
      ]
     },
     "metadata": {},
     "output_type": "display_data"
    }
   ],
   "source": [
    "n = np.arange(1,10)\n",
    "\n",
    "plt.plot(n,np.log(n),label = 'log n')\n",
    "# plt.plot(n,n,label = 'n')\n",
    "# plt.plot(n,n**2,label = 'n^2')\n",
    "# plt.plot(n,2**n,label = '2^n')\n",
    "\n",
    "# def factorial(n):\n",
    "#     if n < 2:\n",
    "#         return 1\n",
    "#     else:\n",
    "#         return n * factorial(n-1)\n",
    "    \n",
    "# plt.plot(n,[factorial(i) for i in n],label = 'n!')\n",
    "# plt.plot(n,n**n,label = 'n^n')\n",
    "\n",
    "plt.legend(loc='upper left')"
   ]
  },
  {
   "cell_type": "markdown",
   "metadata": {},
   "source": [
    "# Recursion\n",
    "Based on [Iteration, Induction and Recursion chapter by Al Aho and Jeff Ullman](http://infolab.stanford.edu/~ullman/focs/ch02.pdf).\n",
    "\n",
    "### Writing a program recursively"
   ]
  },
  {
   "cell_type": "code",
   "execution_count": 28,
   "metadata": {
    "collapsed": true
   },
   "outputs": [],
   "source": [
    "def factorial(n):\n",
    "    if n < 2:\n",
    "        return 1\n",
    "    else:\n",
    "        return n * factorial(n-1)"
   ]
  },
  {
   "cell_type": "markdown",
   "metadata": {},
   "source": [
    "Proof by induction refresher:\n",
    "- Proove that $\\sum_{i=1}^n i = n(n+1)/2$\n",
    "- Geometric series: $\\sum_{i=1}^n ar^i = \\frac{(ar^n - a)}{(r-1)}$ if $0<a<1$ or $a>1$.\n",
    "- Complete induction: sometimes we need to assume that the assumption holds for all $n_i\\len$.\n",
    "- Sometimes you need to proove multiple base cases: e.g. S(n):There are integers a and b (positive, negative, or 0) such that n = 2a + 3b.\n",
    "\n",
    "\n",
    "### Selection sort"
   ]
  },
  {
   "cell_type": "code",
   "execution_count": 39,
   "metadata": {
    "collapsed": false
   },
   "outputs": [
    {
     "name": "stdout",
     "output_type": "stream",
     "text": [
      "[1, 2, 3, 5]\n"
     ]
    }
   ],
   "source": [
    "\n",
    "def selection_sort(a):\n",
    "    n = len(a)\n",
    "    for i in range(n):\n",
    "        small = i\n",
    "        for j in range(i+1,n):\n",
    "            if a[j] < a[small]:\n",
    "                small = j\n",
    "        temp = a[small]\n",
    "        a[small] = a[i]\n",
    "        a[i] = temp\n",
    "    print(a)\n",
    "                \n",
    "                \n",
    "\n",
    "selection_sort([2,1,3,5])"
   ]
  },
  {
   "cell_type": "code",
   "execution_count": 50,
   "metadata": {
    "collapsed": false
   },
   "outputs": [
    {
     "name": "stdout",
     "output_type": "stream",
     "text": [
      "[2, 4, 7, 9]\n"
     ]
    }
   ],
   "source": [
    "# recursive implementation\n",
    "\n",
    "def recursive_selection_sort(a, i, n):\n",
    "    if i < n-1:\n",
    "        small = i\n",
    "        # find minimum\n",
    "        for j in range(i+1,n):\n",
    "            if a[j] < a[small]:\n",
    "                small = j\n",
    "        temp = a[small]\n",
    "        a[small] = a[i]\n",
    "        a[i] = temp\n",
    "        recursive_selection_sort(a, i+1, n)\n",
    "    else:    \n",
    "        print(a)\n",
    "\n",
    "recursive_selection_sort([9,7,4,2],0,4)"
   ]
  },
  {
   "cell_type": "markdown",
   "metadata": {},
   "source": [
    "## Merge Sort\n",
    "\n",
    "Divide and conquer principle"
   ]
  },
  {
   "cell_type": "code",
   "execution_count": 56,
   "metadata": {
    "collapsed": false
   },
   "outputs": [
    {
     "name": "stdout",
     "output_type": "stream",
     "text": [
      "[  2.   6.   9.  31.]\n"
     ]
    }
   ],
   "source": [
    "def merge(arr1,arr2):\n",
    "    new_arr = np.zeros(len(arr1)+len(arr2))\n",
    "    i = 0\n",
    "    j = 0\n",
    "    k = 0\n",
    "    while i<len(arr1) and j<len(arr2):\n",
    "        if arr1[i]<arr2[j]:\n",
    "            new_arr[k] = arr1[i]\n",
    "            i+=1\n",
    "        else:\n",
    "            new_arr[k] = arr2[j]\n",
    "            j+=1\n",
    "        k+=1\n",
    "    # if there are remaining elements:\n",
    "    while i<len(arr1):\n",
    "        new_arr[k] = arr1[i]\n",
    "        i+=1\n",
    "    while j<len(arr2):\n",
    "        new_arr[k] = arr2[j]\n",
    "        j+=1\n",
    "    return new_arr\n",
    "    \n",
    "\n",
    "def merge_sort(arr):\n",
    "    middle = int(len(arr)/2)\n",
    "    arr1 = arr[:middle]\n",
    "    arr2 = arr[middle:]\n",
    "    mergeSort(arr1)\n",
    "    mergeSort(arr2)\n",
    "    arr = merge(arr1,arr2)\n",
    "    return arr\n",
    "        \n",
    "\n",
    "a = [2,31,6,9]\n",
    "\n",
    "print(merge_sort(a))"
   ]
  },
  {
   "cell_type": "code",
   "execution_count": null,
   "metadata": {
    "collapsed": true
   },
   "outputs": [],
   "source": []
  }
 ],
 "metadata": {
  "kernelspec": {
   "display_name": "Python 3",
   "language": "python",
   "name": "python3"
  },
  "language_info": {
   "codemirror_mode": {
    "name": "ipython",
    "version": 3
   },
   "file_extension": ".py",
   "mimetype": "text/x-python",
   "name": "python",
   "nbconvert_exporter": "python",
   "pygments_lexer": "ipython3",
   "version": "3.5.2"
  }
 },
 "nbformat": 4,
 "nbformat_minor": 1
}
