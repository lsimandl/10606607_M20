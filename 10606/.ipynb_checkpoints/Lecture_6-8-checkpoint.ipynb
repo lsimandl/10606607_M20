{
 "cells": [
  {
   "cell_type": "markdown",
   "metadata": {},
   "source": [
    "# SVD, LU decompostion, linear equations \n",
    "\n",
    "\n",
    "Based on: Geoff Gordon's  [Linear equations](https://qna.cs.cmu.edu/#/pages/view/185)\n",
    "\n",
    "\n"
   ]
  },
  {
   "cell_type": "code",
   "execution_count": 24,
   "metadata": {
    "collapsed": true
   },
   "outputs": [],
   "source": [
    "import numpy as np\n",
    "from scipy.linalg import lu, eig, svd"
   ]
  },
  {
   "cell_type": "code",
   "execution_count": 25,
   "metadata": {
    "collapsed": false
   },
   "outputs": [
    {
     "name": "stdout",
     "output_type": "stream",
     "text": [
      "[[-0.29586053  2.01869505 -1.42920101 -1.05873531 -1.07277984]\n",
      " [-2.08917931 -0.47351086  0.68873134  0.49182723 -0.47295026]\n",
      " [-1.25147599 -1.55659462 -0.94090121 -0.67285734 -0.83878875]\n",
      " [ 1.30530375 -0.81994387  2.66056487  0.81706072 -0.03493527]\n",
      " [-0.17621399  0.0638752   0.42033988 -0.22447632 -1.39382497]]\n"
     ]
    }
   ],
   "source": [
    "A = np.random.normal(size = [5,5])\n",
    "print(A)"
   ]
  },
  {
   "cell_type": "code",
   "execution_count": 26,
   "metadata": {
    "collapsed": false
   },
   "outputs": [
    {
     "name": "stdout",
     "output_type": "stream",
     "text": [
      "L =\n",
      "[[ 1.          0.          0.          0.          0.        ]\n",
      " [ 0.14161567  1.          0.          0.          0.        ]\n",
      " [ 0.59902756 -0.61030689  1.          0.          0.        ]\n",
      " [-0.62479259 -0.53495821 -0.99513891  1.          0.        ]\n",
      " [ 0.08434604  0.04977293 -0.19176837  0.46780502  1.        ]]\n",
      "U =\n",
      "[[-2.08917931 -0.47351086  0.68873134  0.49182723 -0.47295026]\n",
      " [ 0.          2.0857516  -1.52673616 -1.12838575 -1.00580268]\n",
      " [ 0.          0.         -2.28524786 -1.656137   -1.16932681]\n",
      " [ 0.          0.          0.         -1.12737487 -2.03213609]\n",
      " [ 0.          0.          0.          0.         -0.57746818]]\n",
      "LU =\n",
      "[[-2.08917931 -0.47351086  0.68873134  0.49182723 -0.47295026]\n",
      " [-0.29586053  2.01869505 -1.42920101 -1.05873531 -1.07277984]\n",
      " [-1.25147599 -1.55659462 -0.94090121 -0.67285734 -0.83878875]\n",
      " [ 1.30530375 -0.81994387  2.66056487  0.81706072 -0.03493527]\n",
      " [-0.17621399  0.0638752   0.42033988 -0.22447632 -1.39382497]]\n",
      "PA =\n",
      "[[-2.08917931 -0.47351086  0.68873134  0.49182723 -0.47295026]\n",
      " [-0.29586053  2.01869505 -1.42920101 -1.05873531 -1.07277984]\n",
      " [-1.25147599 -1.55659462 -0.94090121 -0.67285734 -0.83878875]\n",
      " [ 1.30530375 -0.81994387  2.66056487  0.81706072 -0.03493527]\n",
      " [-0.17621399  0.0638752   0.42033988 -0.22447632 -1.39382497]]\n"
     ]
    }
   ],
   "source": [
    "U, D, V = np."
   ]
  },
  {
   "cell_type": "code",
   "execution_count": null,
   "metadata": {
    "collapsed": true
   },
   "outputs": [],
   "source": []
  }
 ],
 "metadata": {
  "kernelspec": {
   "display_name": "Python 3",
   "language": "python",
   "name": "python3"
  },
  "language_info": {
   "codemirror_mode": {
    "name": "ipython",
    "version": 3
   },
   "file_extension": ".py",
   "mimetype": "text/x-python",
   "name": "python",
   "nbconvert_exporter": "python",
   "pygments_lexer": "ipython3",
   "version": "3.5.2"
  }
 },
 "nbformat": 4,
 "nbformat_minor": 2
}
