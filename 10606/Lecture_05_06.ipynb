{
 "cells": [
  {
   "cell_type": "markdown",
   "metadata": {},
   "source": [
    "# Lecture 5: Linear operators and Matrices \n",
    "\n",
    "\n",
    "Based on: Geoff Gordon's  [Matrices and Linear Operators lecture notes](https://qna.cs.cmu.edu/#/pages/view/184) and Zico Kolter's [Linear Algebra Review and Reference notes](http://www.cs.cmu.edu/~zkolter/course/linalg/linalg_notes.pdf).\n"
   ]
  },
  {
   "cell_type": "markdown",
   "metadata": {},
   "source": [
    "\n",
    "## Functions on a vector space\n",
    "\n",
    "We saw functions from $ \\mathbb{R}^n\\rightarrow \\mathbb{R}$\n",
    "but we can have functions between other feature spaces, e.g.:\n",
    "\n",
    "- $\\mathbb{R}^2\\rightarrow\\mathbb{R}^5$ (example we saw last lecture)\n",
    "- if $H$ is the span of all functions $q_y=e^{(x-y)^2}$, then we can have functions $e_z \\in H \\rightarrow \\mathbb{R}$  that evaluates any function $f \\in H$: $e_z(f) = f(z)$.\n",
    "\n",
    "### Functionals and operators\n",
    "Operators map one vector space to another: $f \\in U \\rightarrow V$.\n",
    "Functionals are a special case and map from a vector space to the reals: $f \\in U \\rightarrow \\mathbb{R}.$\n",
    "\n",
    "\n",
    "## Linear operators:\n",
    "\n",
    "An operator if called linear if it satisfies:\n",
    "\n",
    "$$f(ax + by) = af(x) + bf(y)$$\n",
    "\n",
    "example: matrix multiplication by an $m \\times n$ matrix ($f(x) =Ax$) is a linear operator $f \\in \\mathbb{R}^n\\rightarrow \\mathbb{R}^m$.\n",
    "\n",
    "other example (on an infinite dimentional vector space) is the operator $\\frac{d}{dx}$ that acts on differentiable functions in $\\mathbb{R}\\rightarrow\\mathbb{R}$."
   ]
  },
  {
   "cell_type": "markdown",
   "metadata": {},
   "source": [
    "## Coordinates\n",
    "\n",
    "We have been talking about vectors in a coordinate free or abstract manner. We can also consider some vector spaces like $R_n$ in a concrete manner by specifying their coordinates. To do so, we need a basis $B = \\{b_1, b_2,...b_n)$ and any vector $x$ can be expressed as $x = \\tilde x_1b_1 + \\tilde x_2 b_2 + \\ldots + \\tilde x_n b_n$ where the scalars $\\tilde x$ are the coordinates:\n",
    "\n",
    "$$x \\in V\\ \\leftrightarrow\\ \\left(\\begin{array}{c}\\tilde x_1 \\\\ \\vdots \\\\ \\tilde x_n\\end{array}\\right) \\in \\mathbb R^n\\,.$$\n",
    "\n",
    "If we choose another basis, the coordinates will change (the representation changes), but the vector $x$ will remain the same.\n",
    "\n",
    "## Matrices\n",
    "\n",
    "**Linear operator $L$ and matrix $\\tilde L$:** \n",
    "\n",
    "Given a space $V$ with basis $B=\\{b_1...b_n\\}$ and a space $U$ with basis $C=\\{c_1...c_m\\}$, and a linear operator:\n",
    "$$L \\in U\\rightarrow V$$\n",
    "\n",
    "we pick a matrix $\\tilde L$ that, given $x$ with coordinate representation $\\tilde x$, applying $L$ to $x$ is equivalent to multiplying $\\tilde L$ by $\\tilde x$. $\\tilde L$  is consistent with the bases $B$ and $C$ we have assigned.\n",
    "\n",
    "$$\\left(\\begin{array}{ccc}\\tilde L_{11} & \\ldots & \\tilde L_{1n} \\\\ \\vdots & \\ddots & \\vdots \\\\ \\tilde L_{m1} &\\ldots & \\tilde L_{mn} \\end{array}\\right)\\ \\in\\ \\mathbb R^{m\\times n}\\,.$$\n",
    "\n",
    "\n",
    "$$Lx = y \\quad\\text{is equivalent to}\\quad \\tilde L\\tilde x = \\tilde y\\,.$$\n",
    "\n",
    "$L \\in U\\rightarrow V$ and $\\tilde L \\in \\mathbb{R}^n\\rightarrow \\mathbb{R}^m$. \n",
    "\n",
    "We can pick different bases and  $\\tilde L$ will change but $L$ will not change, only the representation of it will."
   ]
  },
  {
   "cell_type": "markdown",
   "metadata": {},
   "source": [
    "## Slices\n",
    "\n",
    "$\\tilde L_{1:3:12,4}$"
   ]
  },
  {
   "cell_type": "code",
   "execution_count": 1,
   "metadata": {
    "collapsed": false
   },
   "outputs": [
    {
     "name": "stdout",
     "output_type": "stream",
     "text": [
      "[[ 0  1  2  3  4  5  6  7  8  9]\n",
      " [10 11 12 13 14 15 16 17 18 19]\n",
      " [20 21 22 23 24 25 26 27 28 29]\n",
      " [30 31 32 33 34 35 36 37 38 39]\n",
      " [40 41 42 43 44 45 46 47 48 49]\n",
      " [50 51 52 53 54 55 56 57 58 59]\n",
      " [60 61 62 63 64 65 66 67 68 69]\n",
      " [70 71 72 73 74 75 76 77 78 79]\n",
      " [80 81 82 83 84 85 86 87 88 89]\n",
      " [90 91 92 93 94 95 96 97 98 99]]\n",
      "[ 3 23 43 63 83]\n"
     ]
    }
   ],
   "source": [
    "import numpy as np\n",
    "\n",
    "L = np.arange(100).reshape([10,10])\n",
    "print(L)\n",
    "print(L[::2,3])"
   ]
  },
  {
   "cell_type": "markdown",
   "metadata": {},
   "source": [
    "## Transpose and adjoint\n",
    "#### (don't confuse with classical adjoint, sometimes called the adjoint inolder terminology)\n",
    "\n",
    "(consider Hilbert spaces = complete inner product spaces)\n",
    "\n",
    "For any linear operator $L: U\\rightarrow V$, there exist an adjoint operator $L^*: V\\rightarrow U$ such that:\n",
    "\n",
    "$$\\langle Lx, y\\rangle_V = \\langle x, L^*y\\rangle_U \\quad\\text{for all }x\\in U, y\\in V\\,.$$\n",
    "\n",
    "\n",
    "If we have a coordinate representation $\\tilde L\\in\\mathbb R^{m\\times n}$ then the coordinate representation of the adjoint $L^*$ is the matrix transpose:\n",
    "\n",
    "$$\\tilde L^T = (\\tilde L_{ji}) = \\left(\\begin{array}{ccc}\\tilde L_{11} & \\ldots & \\tilde L_{m1} \\\\ \\vdots & \\ddots & \\vdots \\\\ \\tilde L_{1n} &\\ldots & \\tilde L_{mn} \\end{array}\\right)\\,.$$\n",
    "\n",
    "If we take the adjoint twice, we get back the original operator: $L^{**} = L$, and if we take the transpose twice, we get back the original matrix $\\tilde L^{\\top\\top} = \\tilde L$.\n",
    "\n",
    "If $U=V$ we can potentially have $L^*=L$, called a self-adjoint. This $\\tilde L = \\tilde L^\\top$, i.e. a symmetric matrix. "
   ]
  },
  {
   "cell_type": "markdown",
   "metadata": {},
   "source": [
    "### Inverse\n",
    "\n",
    "(consider Hilbert spaces = complete inner product spaces)\n",
    "\n",
    "For a linear operator $L: U\\rightarrow V$, we say $L^{-1}: V\\rightarrow U$ is an inverse if it satisfies:\n",
    "\n",
    "$$x = L^{-1}y\\ \\text{ whenever }\\ y = Lx \\qquad$$\n",
    "\n",
    "Or equivalently: $$x = L^{-1}Lx, \\ \\ y = LL^{-1} y \\ \\ \\text{for all}\\ \\ x\\in U,\\, y\\in V\\,.$$\n",
    "\n",
    "The inverse doesn't always exist, and when it does we call $L$ invertible, and $(L^{-1})^{-1} = L$.\n",
    "\n",
    "If $L$ is not invertible, it is called singular. \n",
    "\n",
    "The pseudoinverse $L^\\dagger$ is define as the inverse whenever that makes sense: if we take $x = L^\\dagger$, the error $||x L -  b||$ is as small as possible.\n",
    "\n",
    "We can define an inverse operation on matrices as well, if $A$ and $A^{-1}$ are matrices that satisfy\n",
    "\n",
    "$$AA^{-1}x =x \\qquad A^{-1}A y = y$$\n",
    "\n",
    "for all $x,y \\in \\mathbb{R}^n$, then we say that $A^{-1}$ is the inverse of $A$.\n",
    "\n",
    "The matrix inverse $\\tilde L ^{-1}$ is the corresponding coordinate represenation of the $L ^{-1}$.\n",
    "\n",
    "\n",
    "The matrix pseudoinverse $\\tilde L^\\dagger$ is the corresponding coordinate represenation of the pseudoinverse $L^\\dagger$.\n"
   ]
  }
 ],
 "metadata": {
  "celltoolbar": "Slideshow",
  "kernelspec": {
   "display_name": "Python 3",
   "language": "python",
   "name": "python3"
  },
  "language_info": {
   "codemirror_mode": {
    "name": "ipython",
    "version": 3
   },
   "file_extension": ".py",
   "mimetype": "text/x-python",
   "name": "python",
   "nbconvert_exporter": "python",
   "pygments_lexer": "ipython3",
   "version": "3.5.2"
  }
 },
 "nbformat": 4,
 "nbformat_minor": 0
}
