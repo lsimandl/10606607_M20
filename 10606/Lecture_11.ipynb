{
 "cells": [
  {
   "cell_type": "markdown",
   "metadata": {},
   "source": [
    "# Probability\n",
    "\n",
    "Based on Geoff Gordon's [probability lecture notes](https://qna.cs.cmu.edu/#/pages/view/168), [Random variables lecture notes](https://qna.cs.cmu.edu/#/pages/view/171), [Mean and Variance lecture notes](https://qna.cs.cmu.edu/#/pages/view/173), [Factorizing distributions lecture notes](https://qna.cs.cmu.edu/#/pages/view/174) and [Matt Gormley's Slides](http://www.cs.cmu.edu/~mgormley/courses/606-607-f18/slides606/lecture13-final.pdf).\n"
   ]
  },
  {
   "cell_type": "markdown",
   "metadata": {
    "collapsed": true
   },
   "source": [
    "# Random Variables\n"
   ]
  },
  {
   "cell_type": "markdown",
   "metadata": {},
   "source": [
    "### Probability tables\n",
    "\n",
    "$$\\begin{array}{c|c} a &p(\\{a\\}) \\\\ \\hline \n",
    "5'3''& 0.08\\\\\n",
    "5'4''& 0.105\\\\\n",
    "\\vdots & \\vdots \\end{array}$$\n",
    "\n",
    "### Joint distribution\n",
    "\n",
    "We can have multiple random variables in the same experiment. The universe then corresponds to the set of all possible joint settings of the different variable. Each atomic event is a setting for one of the variables. For example, \n",
    "$$\\text{height} = \\text{5'3\"}  \\wedge \\text{eye color} = \\text{brown},$$\n",
    "is an atomic event.\n",
    "\n",
    "We can write the probability table by using multiple dimentions:\n",
    "\n",
    "$$\\begin{array}{c|ccc} & \\text{brown} & \\text{blue} & \\text{green} \\\\ \\hline 5'3'' & .05 & .02 & .01 \\\\ 5'4'' & .06 & .025  & .02\\\\ \\vdots & & \\vdots & \\end{array}$$\n",
    "\n",
    "We can also write the probability table as a list to avoid dealing with more than 2 dimensions:\n",
    "\n",
    "$$\\begin{array}{cc|c} \\text{height}  & \\text{eye color} & P \\\\ \\hline 5'3''  & \\text{brown} & .03 \\\\ 5'3'' & \\text{blue} & .02 \\\\ 5'3'' &  \\text{green} & .01 \\\\ & \\vdots & \\vdots \\end{array}$$\n",
    "\n",
    "### Marginal distribution\n",
    "\n",
    "Given a joint distribution over multiple random variables, the dsitribution for a subset of variables is called the marginal and is obtained by marginalizing out the other variables. For each configuration of the variables we want to keep, we sum the probabilities over all the variables we want to marginalize out. \n",
    "\n",
    "For example, to obtain the marginal distribution for height, we sum over the three eye colors for each height value:\n",
    "\n",
    "$$\\begin{array}{cccc} 5'3'' & .08 \\\\ 5'4'' & .105 \\\\ \\vdots & \\vdots \\end{array}$$\n",
    "\n",
    "### Conditional distribution\n",
    "\n",
    "A conditional distribution corresponds to fixing the probability of a subset of variables when fixing the value of another set of variables. To obtain it, we keep the values in the table that are consistent with the variables we fix the values for, then we normalize the remaining entries by the sum of these entries.\n",
    "\n",
    "For example, the conditional distibution of eye color given a height of $5'3''$ is:\n",
    "$$\\begin{array}{ccc} \\text{brown} & \\text{blue} & \\text{green} \\\\  .625 & .25 & .125 \\end{array}$$\n",
    "\n",
    "We write conditional distrubtions of $X$ and $Y$ given $Z$ and $W$ as $P(X,Y|Z,W)$. We can write:  $P(X=x,Y=y|Z=z,W=w)$ for specific values $x$, $y$, $z$ and $w$. If we don't, then we have a table (in this case a 4D table). \n",
    "\n",
    "### Exercise\n",
    "\n",
    "From [notes](https://qna.cs.cmu.edu/#/pages/view/171):\n",
    "\"Suppose we have three random variables:\n",
    "\n",
    "$X\\in\\{1,2\\}$, $Y\\in\\{1,2,3\\}$, $Z\\in\\{1,2,3,4,5\\}$.\n",
    "Build a joint probability table according to the following rule:\n",
    "\n",
    "$P(X,Y,Z)=\\nu(X+Y+Z)$\n",
    "\n",
    "Solve for the normalizing factor $\\nu$ using the rule that $\\sum_X\\sum_Y\\sum_Z P(X,Y,Z)=1$.\n",
    "\n",
    "What is the probability of the event $Y=2$?\n",
    "\n",
    "Now condition on $Y=2$ to get a table of $P(X,Z∣Y=2)$.\n",
    "\n",
    "What is the probability that $Z\\ge 4$ given $Y=2$?"
   ]
  },
  {
   "cell_type": "code",
   "execution_count": 3,
   "metadata": {},
   "outputs": [
    {
     "name": "stdout",
     "output_type": "stream",
     "text": [
      "195.0\n"
     ]
    }
   ],
   "source": [
    "import numpy as np\n",
    "\n",
    "P_XYZ = np.zeros((2,3,5))\n",
    "\n",
    "for X in range(2):\n",
    "    for Y in range(3):\n",
    "        for Z in range(5):\n",
    "            P_XYZ[X,Y,Z] = (X+1) + (Y+1) + (Z+1)\n",
    "            \n",
    "print(P_XYZ.sum())"
   ]
  },
  {
   "cell_type": "code",
   "execution_count": 4,
   "metadata": {},
   "outputs": [
    {
     "name": "stdout",
     "output_type": "stream",
     "text": [
      "[[[ 0.01538462  0.02051282  0.02564103  0.03076923  0.03589744]\n",
      "  [ 0.02051282  0.02564103  0.03076923  0.03589744  0.04102564]\n",
      "  [ 0.02564103  0.03076923  0.03589744  0.04102564  0.04615385]]\n",
      "\n",
      " [[ 0.02051282  0.02564103  0.03076923  0.03589744  0.04102564]\n",
      "  [ 0.02564103  0.03076923  0.03589744  0.04102564  0.04615385]\n",
      "  [ 0.03076923  0.03589744  0.04102564  0.04615385  0.05128205]]]\n"
     ]
    }
   ],
   "source": [
    "P_XYZ = P_XYZ/np.sum(P_XYZ)\n",
    "\n",
    "print(P_XYZ)"
   ]
  },
  {
   "cell_type": "markdown",
   "metadata": {},
   "source": [
    "### Independence and conditional independence\n",
    "\n",
    "Two variables are independent if and only if their joint distribution factors:\n",
    "\n",
    "$$P(X,Y) = P(X)P(Y)$$\n",
    "\n",
    "Two variables $x$ and $y$ are conditionally independent given $z$ if and only if their conditional joint distribution factors:\n",
    "\n",
    "$$P(X,Y\\mid Z) = P(X\\mid Z)P(Y\\mid Z)$$\n",
    "\n",
    "\n",
    "### The chain rule (probability)\n",
    "\n",
    "$$P(A,B) = P(A|B)P(B)$$\n",
    "\n",
    "(to compute conditional dsitributions such as $ P(A|B)$ above, we computed $P(A\\mid B) = P(A,B)/P(B)$\n",
    "\n",
    "We can use the chain rule on multiple variables:\n",
    "\n",
    "$P(A,B,C) = P(A\\mid B,C)P(B,C) = P(A\\mid B,C)P(B\\mid C)P(C)$\n",
    "\n",
    "### Bayes rule\n",
    "\n",
    "From the chain rule, we have:\n",
    "\n",
    "$P(A\\mid B)\\, P(B) = P(A, B) = P(B\\mid A)\\, P(A)\\,.$\n",
    "\n",
    "Dividing by P(B):\n",
    "\n",
    "$$P(A\\mid B) = \\frac{P(B\\mid A)\\, P(A)\\, }{ P(B)\\,}.$$\n",
    "\n",
    "\n",
    "Sometimes we need to also condition on side information (e.g. the value of specific parameters), and we can use the general form:\n",
    "\n",
    "$$P(A\\mid B, C) = \\frac{P(B\\mid A, C)\\, P(A,C)\\, }{ P(B,C)\\,}.$$\n",
    "\n",
    "\n",
    "\n",
    "### Factorizing joint distributions\n",
    "\n",
    "What happens if we have a large number of variable? The tables are exponentially large. Luckily, knowledge about the relationships between the variables allows us to simplify the joint distribution.\n",
    "\n",
    "[Example from notes](https://qna.cs.cmu.edu/#/pages/view/174)\n",
    "\n",
    "\"\n",
    "- O: whether our robot is Outside\n",
    "- M: whether our robot is made of Metal\n",
    "- R: whether it is Raining\n",
    "- W: whether our robot is Wet\n",
    "- U: whether our robot is rUsty\n",
    "\n",
    "The joint table has 32 entries. But, if we represent it in factored form as\n",
    "\n",
    "$$P(O,M,R,W,U)=P(O)P(M)P(R)P(W∣O,R)P(U∣W,M)$$\n",
    "\n",
    "then the individual tables have 2+2+2+8+8=22 entries total.\"\n",
    "\n",
    "Example:\n",
    "$$P(O) = \\left[\\begin{array}{c} .45 \\\\ .55 \\end{array}\\right]\\qquad P(W\\mid O, R) = \\left[\\begin{array}{cc}.9 & .05 \\\\ .1 & .05 \\\\ \\hline .1 & .95\\\\ .9 & .95 \\end{array}\\right]\\,.$$\n",
    "\n",
    "\n",
    "### Exercice:\n",
    "\n",
    "[Exercise from notes](https://qna.cs.cmu.edu/#/pages/view/174)\n",
    "\n",
    "\"For example, suppose we are given the following tables relating **G=grass is wet** to **S=sprinkler is on**:\n",
    "\n",
    "$$P(S) = \\left[\\begin{array}{c} 1\\over 3 \\\\ 2\\over 3\\end{array}\\right] \\qquad P(G\\mid S) =\\left[\\begin{array}{cc} 3\\over 4 & 1\\over 5 \\\\ 1\\over 4 & 4\\over 5\\end{array}\\right]$$\n",
    "\n",
    "(Here we are following the convention that the first random variable that appears in an expression corresponds to the rows of a table, while the second corresponds to columns.)\n",
    "\n",
    "Use Bayes' rule to find:\n",
    "\n",
    "$$P(S \\mid G) = \\left[\\begin{array}{cc} \\_ &\\_ \\\\ \\_&\\_ \\end{array}\\right]$$\n",
    "\n",
    "Hint: we aren't given P(G), but that's OK; we can find it by noting that each column of the desired table is a probability distribution and so has to sum to 1. \""
   ]
  },
  {
   "cell_type": "markdown",
   "metadata": {},
   "source": [
    "## Mean and Variance\n",
    "\n",
    "The mean of a variable, also called it's expected value or first moment, is defined as:\n",
    "\n",
    "For discrete $X$:\n",
    "\n",
    "$$\\textstyle E[X] = \\sum_x x\\cdot P(X=x)\\,.$$\n",
    "\n",
    "For continuous $X$ with pdf $f(X)$:\n",
    "\n",
    "$$\\textstyle E[X]=  \\int x f(x)dx$$\n",
    "\n",
    "#### Functions of $X$:\n",
    "\n",
    "The expected value of $g(X)$ is:\n",
    "\n",
    "For discrete $X$:\n",
    "$$\\textstyle E[g(X)] = \\sum_x g(x)\\cdot P(X=x)\\,.$$\n",
    "\n",
    "For continuous $X$:\n",
    "$$E[g(X)] = \\int g(x) f(x)dx$$\n",
    "\n",
    "#### Linearity of expectations:\n",
    "\n",
    "If $a$ and $b$ are constants:\n",
    "\n",
    "$$E[aX+b] = aE[X]+b$$\n",
    "\n",
    "#### Variance:\n",
    "\n",
    "The variance of $X$ is defined as:\n",
    "\n",
    "$$var(X) = E[(X- E[X])^2]$$\n",
    "\n",
    "It can also be obtained from:\n",
    "\n",
    "$$var(X) =  E[X^2] - E[X^2]$$\n",
    "\n",
    "Proof:\n",
    "\\begin{align*}\n",
    "    var(X) &= E[(X-E[X])^2]\\\\\n",
    "&= E[X^2-2XE[X]-E[X]^2]\\\\\n",
    "&= E[X^2]-2E[XE[X]]-E[E[X]^2]\\\\\n",
    "&= E[X^2]-2E[X]E[X]-E[X]^2\\\\\n",
    "&= E[X^2]-E[X]^2\\\\\n",
    "\\end{align*}\n",
    "\n",
    "The mean and variance can also be obtained from the moment generating function.\n",
    "\n",
    "#### Moment generating function:\n",
    "\n",
    "\\begin{align*}\n",
    "    M_{X} (t) = E[e^{tX}]\n",
    "\\end{align*}\n",
    "\n",
    "- $E[X^n] = M^{(n)}(0) = \\frac{\\partial^n M_X}{\\partial t^n}\\big|_{t=0}$\n",
    "- $E[X] = M'(0)$\n",
    "- $E[X^2] = M''(0)$\n",
    "- $var(X) = E[X^2]-E[X] = M''(0) - M'(0)^2$\n",
    "\n",
    "##### Example: \n",
    "\n",
    "Bernouilli: $P(X=1)=p$\n",
    "\n",
    "$M_{X} (t) = E[e^{tX}] = \\sum_{x=0}^1 e^{tx} P(X=x) = 1-p+pe^{t}$\n",
    "\n",
    "$M'_{X}(t) = pe^{t}$\n",
    "\n",
    "$E[X] = M'(0) = p$\n",
    "\n",
    "$M''_{X}(t) = pe^{t}$\n",
    "\n",
    "$E[X^2] = M''(0) = p$\n",
    "\n",
    "$var(X) = M''(0) - M'(0)^2 = p - p^2 = p (1-p)$\n"
   ]
  },
  {
   "cell_type": "markdown",
   "metadata": {},
   "source": [
    "### Standardizing\n",
    "\n",
    "If $X$ has mean $\\mu$ and variance $\\sigma^2$, then we can define a new variable $Z$ with mean $0$ and variance $1$ by computing:\n",
    "\n",
    "$$Z=\\frac{X-\\mu}{\\sigma}$$\n",
    "\n",
    "This is done in python using the function `scipy.stats.zscore`\n",
    "\n",
    "\n",
    "### Covariance and correlation\n",
    "\n",
    "Given random variables $X$ and $Y$, their covariance is defined as:\n",
    "\n",
    "$$\\text{Cov}(X, Y) = E[(X-\\bar X)\\,(Y-\\bar Y)]\\,.$$\n",
    "\n",
    "If we first standardize $X$ and $Y$, we obtain the correlation, which reflects the degree with which $X$ and $Y$ vary together irrespective of their magnitudes:\n",
    "\n",
    "$$\\text{Corr}(X, Y) = E\\left[{X-\\bar X\\over \\sigma_X} \\, {Y-\\bar Y\\over \\sigma_Y}\\right]$$\n",
    "\n",
    "\n",
    "### Uncorrelated vs. independent\n",
    "\n",
    "Two independent variables are uncorrelated, but two uncorrelated variables can still be dependent.  \n"
   ]
  },
  {
   "cell_type": "code",
   "execution_count": 1,
   "metadata": {},
   "outputs": [
    {
     "data": {
      "text/plain": [
       "Text(0, 0.5, 'x_2')"
      ]
     },
     "execution_count": 1,
     "metadata": {},
     "output_type": "execute_result"
    },
    {
     "data": {
      "image/png": "[encoded data removed]",
      "text/plain": [
       "<Figure size 432x288 with 1 Axes>"
      ]
     },
     "metadata": {
      "needs_background": "light"
     },
     "output_type": "display_data"
    }
   ],
   "source": [
    "from sklearn import datasets\n",
    "import matplotlib.pyplot as plt\n",
    "%matplotlib inline\n",
    "\n",
    "X, y = datasets.make_circles(n_samples=500, factor=.25,\n",
    "                                      noise=.05,)\n",
    "X = X[y==1]\n",
    "plt.scatter(X[:,0],X[:,1])\n",
    "plt.axis('equal');\n",
    "plt.xlabel('x_1')\n",
    "plt.ylabel('x_2')"
   ]
  },
  {
   "cell_type": "code",
   "execution_count": 21,
   "metadata": {},
   "outputs": [
    {
     "name": "stdout",
     "output_type": "stream",
     "text": [
      "-0.00750354795897\n"
     ]
    }
   ],
   "source": [
    "from scipy.stats import zscore\n",
    "\n",
    "def corr(X,Y):\n",
    "    zX = zscore(X)\n",
    "    zY = zscore(Y)\n",
    "    return np.mean(zX*zY)\n",
    "\n",
    "print(corr(X[:,0],X[:,1]))"
   ]
  },
  {
   "cell_type": "markdown",
   "metadata": {},
   "source": [
    "### Normal distribution:\n",
    "\n",
    "$$ X\\sim \\mathcal{N}(\\mu, \\sigma^2)$$\n",
    "\\begin{align*}\n",
    "f(x)&={\\displaystyle{\\frac {1}{\\sqrt {2\\pi \\sigma ^{2}}}}e^{-{\\frac {(x-\\mu )^{2}}{2\\sigma ^{2}}}}}\\\\\n",
    "E[X] &= \\mu\\\\\n",
    "var(X) &= \\sigma^2\n",
    "\\end{align*}"
   ]
  },
  {
   "cell_type": "code",
   "execution_count": 6,
   "metadata": {},
   "outputs": [
    {
     "data": {
      "image/png": "[encoded data removed]",
      "text/plain": [
       "<Figure size 432x288 with 1 Axes>"
      ]
     },
     "metadata": {
      "needs_background": "light"
     },
     "output_type": "display_data"
    }
   ],
   "source": [
    "x = np.random.normal(size=100000)\n",
    "\n",
    "plt.hist(x,50);"
   ]
  },
  {
   "cell_type": "markdown",
   "metadata": {},
   "source": [
    "### Multivariate normal distribution:\n",
    "${\\bf X}\\sim(\\boldsymbol{\\mu}, \\Sigma)$\n",
    "\n",
    "\n",
    "$\n",
    "{\\bf X}= (X_1,X_2,X_3...,X_M)^\\top \\ \\ \\ \\text{is a vector}\\\\ \n",
    "$\n",
    "\n",
    "\n",
    "$\n",
    "{\\displaystyle f_{\\mathbf {X} }(x_{1},\\ldots ,x_{k})={\\frac {\\exp \\left(-{\\frac {1}{2}}({\\mathbf {x} }-{\\boldsymbol {\\mu }})^{\\mathrm {T} }{\\boldsymbol {\\Sigma }}^{-1}({\\mathbf {x} }-{\\boldsymbol {\\mu }})\\right)}{\\sqrt {(2\\pi )^{k}|{\\boldsymbol {\\Sigma }}|}}}}\n",
    "$\n",
    "\n",
    "$\n",
    "E[{\\bf X}] = \\boldsymbol\\mu = (\\mu_1,\\mu_1, \\mu_1 ... \\mu_M)^\\top  = (E[X_1],E[X_2],E[X_3]...,E[X_M])^\\top\\\\\n",
    "$\n",
    "\n",
    "$\\Sigma$  is the covariance matrix}\n",
    "\n",
    "\n",
    "\\begin{eqnarray}\n",
    "\\Sigma &= \\begin{bmatrix}\n",
    "var(X_1) & cov(X_1,X_2) & . & . & . & cov(X_1,X_M)\\\\\n",
    "cov(X_2,X_1) & var(X_2) & . & . & . & .\\\\\n",
    ". & . & . & . & . & .\\\\\n",
    "cov(X_M,X_1) & . & . & . & . & var(X_M)\\\\\n",
    "\\end{bmatrix}\\\\\n",
    "\\end{eqnarray}\n",
    "\n",
    "\n",
    "\\begin{eqnarray}\n",
    "cov(X_i,X_j) = E[(X_i-\\mu_i)(X_j-\\mu_j)] = cov(X_j,X_i) \n",
    "\\end{eqnarray}"
   ]
  },
  {
   "cell_type": "code",
   "execution_count": 13,
   "metadata": {},
   "outputs": [
    {
     "name": "stdout",
     "output_type": "stream",
     "text": [
      "(1000, 2)\n"
     ]
    },
    {
     "data": {
      "text/plain": [
       "(-3.5672423253226495, 3.5460723280104056, -3.34092694674636, 3.259785333806171)"
      ]
     },
     "execution_count": 13,
     "metadata": {},
     "output_type": "execute_result"
    },
    {
     "data": {
      "image/png": "[encoded data removed]",
      "text/plain": [
       "<Figure size 432x288 with 1 Axes>"
      ]
     },
     "metadata": {
      "needs_background": "light"
     },
     "output_type": "display_data"
    }
   ],
   "source": [
    "from scipy.stats import multivariate_normal\n",
    "\n",
    "cov = np.array([[1,0.5],[0.5,1]])\n",
    "\n",
    "mvn = multivariate_normal(mean = [0,0],cov=cov)\n",
    "\n",
    "X = mvn.rvs(size = 1000)\n",
    "print(X.shape)\n",
    "plt.scatter(X[:,0],X[:,1])\n",
    "plt.axis('equal')"
   ]
  },
  {
   "cell_type": "code",
   "execution_count": 7,
   "metadata": {},
   "outputs": [
    {
     "data": {
      "text/plain": [
       "array([[1, 0],\n",
       "       [0, 1]])"
      ]
     },
     "execution_count": 7,
     "metadata": {},
     "output_type": "execute_result"
    }
   ],
   "source": [
    "np.array([[1,0],[0,1]])"
   ]
  }
 ],
 "metadata": {
  "kernelspec": {
   "display_name": "Python 3",
   "language": "python",
   "name": "python3"
  },
  "language_info": {
   "codemirror_mode": {
    "name": "ipython",
    "version": 3
   },
   "file_extension": ".py",
   "mimetype": "text/x-python",
   "name": "python",
   "nbconvert_exporter": "python",
   "pygments_lexer": "ipython3",
   "version": "3.7.0"
  }
 },
 "nbformat": 4,
 "nbformat_minor": 1
}
