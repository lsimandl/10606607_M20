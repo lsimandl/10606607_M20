{
 "cells": [
  {
   "cell_type": "markdown",
   "metadata": {},
   "source": [
    "# Probability\n",
    "\n",
    "Based on Geoff Gordon's [probability lecture notes](https://qna.cs.cmu.edu/#/pages/view/168), [Random variables lecture notes](https://qna.cs.cmu.edu/#/pages/view/171), [Mean and Variance lecture notes](https://qna.cs.cmu.edu/#/pages/view/173), [Factorizing distributions lecture notes](https://qna.cs.cmu.edu/#/pages/view/174) and [Matt Gormley's Slides](http://www.cs.cmu.edu/~mgormley/courses/606-607-f18/slides606/lecture13-final.pdf).\n"
   ]
  },
  {
   "cell_type": "markdown",
   "metadata": {
    "collapsed": true
   },
   "source": [
    "# Random Variables\n"
   ]
  },
  {
   "cell_type": "markdown",
   "metadata": {},
   "source": [
    "### Probability tables\n",
    "\n",
    "$$\\begin{array}{c|c} a &p(\\{a\\}) \\\\ \\hline \n",
    "5'3''& 0.08\\\\\n",
    "5'4''& 0.105\\\\\n",
    "\\vdots & \\vdots \\end{array}$$\n",
    "\n",
    "### Joint distribution\n",
    "\n",
    "We can have multiple random variables in the same experiment. The universe then corresponds to the set of all possible joint settings of the different variable. Each atomic event is a setting for one of the variables. For example, \n",
    "$$\\text{height} = \\text{5'3\"}  \\wedge \\text{eye color} = \\text{brown},$$\n",
    "is an atomic event.\n",
    "\n",
    "We can write the probability table by using multiple dimentions:\n",
    "\n",
    "$$\\begin{array}{c|ccc} & \\text{brown} & \\text{blue} & \\text{green} \\\\ \\hline 5'3'' & .05 & .02 & .01 \\\\ 5'4'' & .06 & .025  & .02\\\\ \\vdots & & \\vdots & \\end{array}$$\n",
    "\n",
    "We can also write the probability table as a list to avoid dealing with more than 2 dimensions:\n",
    "\n",
    "$$\\begin{array}{cc|c} \\text{height}  & \\text{eye color} & P \\\\ \\hline 5'3''  & \\text{brown} & .03 \\\\ 5'3'' & \\text{blue} & .02 \\\\ 5'3'' &  \\text{green} & .01 \\\\ & \\vdots & \\vdots \\end{array}$$\n",
    "\n",
    "### Marginal distribution\n",
    "\n",
    "Given a joint distribution over multiple random variables, the dsitribution for a subset of variables is called the marginal and is obtained by marginalizing out the other variables. For each configuration of the variables we want to keep, we sum the probabilities over all the variables we want to marginalize out. \n",
    "\n",
    "For example, to obtain the marginal distribution for height, we sum over the three eye colors for each height value:\n",
    "\n",
    "$$\\begin{array}{cccc} 5'3'' & .08 \\\\ 5'4'' & .105 \\\\ \\vdots & \\vdots \\end{array}$$\n",
    "\n",
    "### Conditional distribution\n",
    "\n",
    "A conditional distribution corresponds to fixing the probability of a subset of variables when fixing the value of another set of variables. To obtain it, we keep the values in the table that are consistent with the variables we fix the values for, then we normalize the remaining entries by the sum of these entries.\n",
    "\n",
    "For example, the conditional distibution of eye color given a height of $5'3''$ is:\n",
    "$$\\begin{array}{ccc} \\text{brown} & \\text{blue} & \\text{green} \\\\  .625 & .25 & .125 \\end{array}$$\n",
    "\n",
    "We write conditional distrubtions of $X$ and $Y$ given $Z$ and $W$ as $P(X,Y|Z,W)$. We can write:  $P(X=x,Y=y|Z=z,W=w)$ for specific values $x$, $y$, $z$ and $w$. If we don't, then we have a table (in this case a 4D table). \n",
    "\n",
    "### Exercise\n",
    "\n",
    "From [notes](https://qna.cs.cmu.edu/#/pages/view/171):\n",
    "\"Suppose we have three random variables:\n",
    "\n",
    "$X\\in\\{1,2\\}$, $Y\\in\\{1,2,3\\}$, $Z\\in\\{1,2,3,4,5\\}$.\n",
    "Build a joint probability table according to the following rule:\n",
    "\n",
    "$P(X,Y,Z)=\\nu(X+Y+Z)$\n",
    "\n",
    "Solve for the normalizing factor $\\nu$ using the rule that $\\sum_X\\sum_Y\\sum_Z P(X,Y,Z)=1$.\n",
    "\n",
    "What is the probability of the event $Y=2$?\n",
    "\n",
    "Now condition on $Y=2$ to get a table of $P(X,Z∣Y=2)$.\n",
    "\n",
    "What is the probability that $Z\\ge 4$ given $Y=2$?"
   ]
  },
  {
   "cell_type": "code",
   "execution_count": null,
   "metadata": {
    "collapsed": true
   },
   "outputs": [],
   "source": []
  }
 ],
 "metadata": {
  "kernelspec": {
   "display_name": "Python 3",
   "language": "python",
   "name": "python3"
  },
  "language_info": {
   "codemirror_mode": {
    "name": "ipython",
    "version": 3
   },
   "file_extension": ".py",
   "mimetype": "text/x-python",
   "name": "python",
   "nbconvert_exporter": "python",
   "pygments_lexer": "ipython3",
   "version": "3.7.0"
  }
 },
 "nbformat": 4,
 "nbformat_minor": 1
}
