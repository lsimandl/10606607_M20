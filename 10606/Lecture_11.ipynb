{
 "cells": [
  {
   "cell_type": "markdown",
   "metadata": {},
   "source": [
    "# Probability\n",
    "\n",
    "Based on Geoff Gordon's [probability lecture notes](https://qna.cs.cmu.edu/#/pages/view/168), [Random variables lecture notes](https://qna.cs.cmu.edu/#/pages/view/171), [Mean and Variance lecture notes](https://qna.cs.cmu.edu/#/pages/view/173), [Factorizing distributions lecture notes](https://qna.cs.cmu.edu/#/pages/view/174) and [Matt Gormley's Slides](http://www.cs.cmu.edu/~mgormley/courses/606-607-f18/slides606/lecture13-final.pdf).\n"
   ]
  },
  {
   "cell_type": "markdown",
   "metadata": {
    "collapsed": true
   },
   "source": [
    "# Random Variables\n"
   ]
  },
  {
   "cell_type": "markdown",
   "metadata": {},
   "source": [
    "### Probability tables\n",
    "\n",
    "$$\\begin{array}{c|c} a &p(\\{a\\}) \\\\ \\hline \n",
    "5'3''& 0.08\\\\\n",
    "5'4''& 0.105\\\\\n",
    "\\vdots & \\vdots \\end{array}$$\n",
    "\n",
    "### Joint distribution\n",
    "\n",
    "We can have multiple random variables in the same experiment. The universe then corresponds to the set of all possible joint settings of the different variable. Each atomic event is a setting for one of the variables. For example, \n",
    "$$\\text{height} = \\text{5'3\"}  \\wedge \\text{eye color} = \\text{brown},$$\n",
    "is an atomic event.\n",
    "\n",
    "We can write the probability table by using multiple dimentions:\n",
    "\n",
    "$$\\begin{array}{c|ccc} & \\text{brown} & \\text{blue} & \\text{green} \\\\ \\hline 5'3'' & .05 & .02 & .01 \\\\ 5'4'' & .06 & .025  & .02\\\\ \\vdots & & \\vdots & \\end{array}$$\n",
    "\n",
    "We can also write the probability table as a list to avoid dealing with more than 2 dimensions:\n",
    "\n",
    "$$\\begin{array}{cc|c} \\text{height}  & \\text{eye color} & P \\\\ \\hline 5'3''  & \\text{brown} & .03 \\\\ 5'3'' & \\text{blue} & .02 \\\\ 5'3'' &  \\text{green} & .01 \\\\ & \\vdots & \\vdots \\end{array}$$\n",
    "\n",
    "### Marginal distribution\n",
    "\n",
    "Given a joint distribution over multiple random variables, the dsitribution for a subset of variables is called the marginal and is obtained by marginalizing out the other variables. For each configuration of the variables we want to keep, we sum the probabilities over all the variables we want to marginalize out. \n",
    "\n",
    "For example, to obtain the marginal distribution for height, we sum over the three eye colors for each height value:\n",
    "\n",
    "$$\\begin{array}{cccc} 5'3'' & .08 \\\\ 5'4'' & .105 \\\\ \\vdots & \\vdots \\end{array}$$\n",
    "\n",
    "### Conditional distribution\n",
    "\n",
    "A conditional distribution corresponds to fixing the probability of a subset of variables when fixing the value of another set of variables. To obtain it, we keep the values in the table that are consistent with the variables we fix the values for, then we normalize the remaining entries by the sum of these entries.\n",
    "\n",
    "For example, the conditional distibution of eye color given a height of $5'3''$ is:\n",
    "$$\\begin{array}{ccc} \\text{brown} & \\text{blue} & \\text{green} \\\\  .625 & .25 & .125 \\end{array}$$\n",
    "\n",
    "We write conditional distrubtions of $X$ and $Y$ given $Z$ and $W$ as $P(X,Y|Z,W)$. We can write:  $P(X=x,Y=y|Z=z,W=w)$ for specific values $x$, $y$, $z$ and $w$. If we don't, then we have a table (in this case a 4D table). \n",
    "\n",
    "### Exercise\n",
    "\n",
    "From [notes](https://qna.cs.cmu.edu/#/pages/view/171):\n",
    "\"Suppose we have three random variables:\n",
    "\n",
    "$X\\in\\{1,2\\}$, $Y\\in\\{1,2,3\\}$, $Z\\in\\{1,2,3,4,5\\}$.\n",
    "Build a joint probability table according to the following rule:\n",
    "\n",
    "$P(X,Y,Z)=(X+Y+Z)\\nu$\n",
    "\n",
    "Solve for the normalizing factor $\\nu$ using the rule that $\\sum_X\\sum_Y\\sum_Z P(X,Y,Z)=1$.\n",
    "\n",
    "What is the probability of the event $Y=2$?\n",
    "\n",
    "Now condition on $Y=2$ to get a table of $P(X,Z∣Y=2)$.\n",
    "\n",
    "What is the probability that $Z\\ge 4$ given $Y=2$?"
   ]
  },
  {
   "cell_type": "code",
   "execution_count": 1,
   "metadata": {},
   "outputs": [
    {
     "name": "stdout",
     "output_type": "stream",
     "text": [
      "195.0\n"
     ]
    }
   ],
   "source": [
    "import numpy as np\n",
    "\n",
    "P_XYZ = np.zeros((2,3,5))\n",
    "\n",
    "for X in range(2):\n",
    "    for Y in range(3):\n",
    "        for Z in range(5):\n",
    "            P_XYZ[X,Y,Z] = (X+1) + (Y+1) + (Z+1)\n",
    "            \n",
    "print(P_XYZ.sum())"
   ]
  },
  {
   "cell_type": "code",
   "execution_count": 6,
   "metadata": {},
   "outputs": [
    {
     "name": "stdout",
     "output_type": "stream",
     "text": [
      "(2, 3, 5)\n",
      "[[[0.01538462 0.02051282 0.02564103 0.03076923 0.03589744]\n",
      "  [0.02051282 0.02564103 0.03076923 0.03589744 0.04102564]\n",
      "  [0.02564103 0.03076923 0.03589744 0.04102564 0.04615385]]\n",
      "\n",
      " [[0.02051282 0.02564103 0.03076923 0.03589744 0.04102564]\n",
      "  [0.02564103 0.03076923 0.03589744 0.04102564 0.04615385]\n",
      "  [0.03076923 0.03589744 0.04102564 0.04615385 0.05128205]]]\n",
      "[[0.12820513 0.15384615 0.17948718]\n",
      " [0.15384615 0.17948718 0.20512821]]\n",
      "[0.28205128 0.33333333 0.38461538]\n"
     ]
    }
   ],
   "source": [
    "P_XYZ = P_XYZ/np.sum(P_XYZ)\n",
    "\n",
    "print(P_XYZ.shape)\n",
    "print(P_XYZ)\n",
    "\n",
    "P_XYZ[0,1,2]\n",
    "\n",
    "P_XY = P_XYZ.sum(axis=2)\n",
    "\n",
    "print(P_XY)\n",
    "\n",
    "P_Y = P_XY.sum(axis=0)\n",
    "print(P_Y)"
   ]
  },
  {
   "cell_type": "code",
   "execution_count": 9,
   "metadata": {},
   "outputs": [
    {
     "name": "stdout",
     "output_type": "stream",
     "text": [
      "[[0.02051282 0.02564103 0.03076923 0.03589744 0.04102564]\n",
      " [0.02564103 0.03076923 0.03589744 0.04102564 0.04615385]]\n",
      "[[0.06153846 0.07692308 0.09230769 0.10769231 0.12307692]\n",
      " [0.07692308 0.09230769 0.10769231 0.12307692 0.13846154]]\n",
      "0.9999999999999998\n"
     ]
    }
   ],
   "source": [
    "# P(X,Y=2,Z)\n",
    "P_X2Z = P_XYZ[:,1,:]\n",
    "print(P_X2Z)\n",
    "\n",
    "# P(X,Z|Y=2)\n",
    "P_XZ_Y2 = P_X2Z/np.sum(P_X2Z) \n",
    "\n",
    "print(P_XZ_Y2)\n"
   ]
  },
  {
   "cell_type": "code",
   "execution_count": 11,
   "metadata": {},
   "outputs": [
    {
     "data": {
      "text/plain": [
       "0.4923076923076922"
      ]
     },
     "execution_count": 11,
     "metadata": {},
     "output_type": "execute_result"
    }
   ],
   "source": [
    "P_XZ_Y2 # P(X,Z|Y=2)\n",
    "np.sum(P_XZ_Y2[:,3:])"
   ]
  },
  {
   "cell_type": "markdown",
   "metadata": {},
   "source": [
    "### Independence and conditional independence\n",
    "\n",
    "Two variables are independent if and only if their joint distribution factors:\n",
    "\n",
    "$$P(X,Y) = P(X)P(Y)$$\n",
    "\n",
    "Two variables $x$ and $y$ are conditionally independent given $z$ if and only if their conditional joint distribution factors:\n",
    "\n",
    "$$P(X,Y\\mid Z) = P(X\\mid Z)P(Y\\mid Z)$$\n",
    "\n",
    "\n",
    "### The chain rule (probability)\n",
    "\n",
    "$$P(A,B) = P(A|B)P(B)$$\n",
    "\n",
    "(to compute conditional dsitributions such as $ P(A|B)$ above, we computed $P(A\\mid B) = P(A,B)/P(B)$\n",
    "\n",
    "We can use the chain rule on multiple variables:\n",
    "\n",
    "$P(A,B,C) = P(A\\mid B,C)P(B,C) = P(A\\mid B,C)P(B\\mid C)P(C)$\n",
    "\n",
    "### Bayes rule\n",
    "\n",
    "From the chain rule, we have:\n",
    "\n",
    "$P(A\\mid B)\\, P(B) = P(A, B) = P(B\\mid A)\\, P(A)\\,.$\n",
    "\n",
    "Dividing by P(B):\n",
    "\n",
    "$$P(A\\mid B) = \\frac{P(B\\mid A)\\, P(A)\\, }{ P(B)\\,}.$$\n",
    "\n",
    "\n",
    "Sometimes we need to also condition on side information (e.g. the value of specific parameters), and we can use the general form:\n",
    "\n",
    "$$P(A\\mid B, C) = \\frac{P(B\\mid A, C)\\, P(A,C)\\, }{ P(B,C)\\,}.$$\n",
    "\n",
    "\n",
    "\n",
    "### Factorizing joint distributions\n",
    "\n",
    "What happens if we have a large number of variable? The tables are exponentially large. Luckily, knowledge about the relationships between the variables allows us to simplify the joint distribution.\n",
    "\n",
    "[Example from notes](https://qna.cs.cmu.edu/#/pages/view/174)\n",
    "\n",
    "\"\n",
    "- O: whether our robot is Outside\n",
    "- M: whether our robot is made of Metal\n",
    "- R: whether it is Raining\n",
    "- W: whether our robot is Wet\n",
    "- U: whether our robot is rUsty\n",
    "\n",
    "The joint table has 32 entries. But, if we represent it in factored form as\n",
    "\n",
    "$$P(O,M,R,W,U)=P(O)P(M)P(R)P(W∣O,R)P(U∣W,M)$$\n",
    "\n",
    "then the individual tables have 2+2+2+8+8=22 entries total.\"\n",
    "\n",
    "Example:\n",
    "$$P(O) = \\left[\\begin{array}{c} .45 \\\\ .55 \\end{array}\\right]\\qquad P(W\\mid O, R) = \\left[\\begin{array}{cc}.9 & .05 \\\\ .1 & .05 \\\\ \\hline .1 & .95\\\\ .9 & .95 \\end{array}\\right]\\,.$$\n",
    "\n",
    "\n",
    "### Exercice:\n",
    "\n",
    "[Exercise from notes](https://qna.cs.cmu.edu/#/pages/view/174)\n",
    "\n",
    "\"For example, suppose we are given the following tables relating **G=grass is wet** to **S=sprinkler is on**:\n",
    "\n",
    "$$P(S) = \\left[\\begin{array}{c} 1\\over 3 \\\\ 2\\over 3\\end{array}\\right] \\qquad P(G\\mid S) =\\left[\\begin{array}{cc} 3\\over 4 & 1\\over 5 \\\\ 1\\over 4 & 4\\over 5\\end{array}\\right]$$\n",
    "\n",
    "(Here we are following the convention that the first random variable that appears in an expression corresponds to the rows of a table, while the second corresponds to columns.)\n",
    "\n",
    "Use Bayes' rule to find:\n",
    "\n",
    "$$P(S \\mid G) = \\left[\\begin{array}{cc} \\_ &\\_ \\\\ \\_&\\_ \\end{array}\\right]$$\n",
    "\n",
    "Hint: we aren't given P(G), but that's OK; we can find it by noting that each column of the desired table is a probability distribution and so has to sum to 1. \""
   ]
  },
  {
   "cell_type": "markdown",
   "metadata": {},
   "source": [
    "## Mean and Variance\n",
    "\n",
    "The mean of a variable, also called it's expected value or first moment, is defined as:\n",
    "\n",
    "For discrete $X$:\n",
    "\n",
    "$$\\textstyle E[X] = \\sum_x x\\cdot P(X=x)\\,.$$\n",
    "\n",
    "For continuous $X$ with pdf $f(X)$:\n",
    "\n",
    "$$\\textstyle E[X]=  \\int x f(x)dx$$\n",
    "\n",
    "#### Functions of $X$:\n",
    "\n",
    "The expected value of $g(X)$ is:\n",
    "\n",
    "For discrete $X$:\n",
    "$$\\textstyle E[g(X)] = \\sum_x g(x)\\cdot P(X=x)\\,.$$\n",
    "\n",
    "For continuous $X$:\n",
    "$$E[g(X)] = \\int g(x) f(x)dx$$\n",
    "\n",
    "#### Linearity of expectations:\n",
    "\n",
    "If $a$ and $b$ are constants:\n",
    "\n",
    "$$E[aX+b] = aE[X]+b$$\n",
    "\n",
    "#### Variance:\n",
    "\n",
    "The variance of $X$ is defined as:\n",
    "\n",
    "$$var(X) = E[(X- E[X])^2]$$\n",
    "\n",
    "It can also be obtained from:\n",
    "\n",
    "$$var(X) =  E[X^2] - E[X]^2$$\n",
    "\n",
    "Proof:\n",
    "\\begin{align*}\n",
    "    var(X) &= E[(X-E[X])^2]\\\\\n",
    "&= E[X^2-2XE[X]+E[X]^2]\\\\\n",
    "&= E[X^2]-2E[XE[X]]+E[E[X]^2]\\\\\n",
    "&= E[X^2]-2E[X]E[X]+E[X]^2\\\\\n",
    "&= E[X^2]-E[X]^2\\\\\n",
    "\\end{align*}\n",
    "\n",
    "The mean and variance can also be obtained from the moment generating function.\n",
    "\n",
    "#### Moment generating function:\n",
    "\n",
    "\\begin{align*}\n",
    "    M_{X} (t) = E[e^{tX}]\n",
    "\\end{align*}\n",
    "\n",
    "- $E[X^n] = M^{(n)}(0) = \\frac{\\partial^n M_X}{\\partial t^n}\\big|_{t=0}$\n",
    "- $E[X] = M'(0)$\n",
    "- $E[X^2] = M''(0)$\n",
    "- $var(X) = E[X^2]-E[X]^2 = M''(0) - M'(0)^2$\n",
    "\n",
    "##### Example: \n",
    "\n",
    "Bernouilli: $P(X=1)=p$\n",
    "\n",
    "$M_{X} (t) = E[e^{tX}] = \\sum_{x=0}^1 e^{tx} P(X=x) = 1-p+pe^{t}$\n",
    "\n",
    "$M'_{X}(t) = pe^{t}$\n",
    "\n",
    "$E[X] = M'(0) = p$\n",
    "\n",
    "$M''_{X}(t) = pe^{t}$\n",
    "\n",
    "$E[X^2] = M''(0) = p$\n",
    "\n",
    "$var(X) = M''(0) - M'(0)^2 = p - p^2 = p (1-p)$\n"
   ]
  },
  {
   "cell_type": "markdown",
   "metadata": {},
   "source": [
    "### Standardizing\n",
    "\n",
    "If $X$ has mean $\\mu$ and variance $\\sigma^2$, then we can define a new variable $Z$ with mean $0$ and variance $1$ by computing:\n",
    "\n",
    "$$Z=\\frac{X-\\mu}{\\sigma}$$\n",
    "\n",
    "This is done in python using the function `scipy.stats.zscore`\n",
    "\n",
    "\n",
    "### Covariance and correlation\n",
    "\n",
    "Given random variables $X$ and $Y$, their covariance is defined as:\n",
    "\n",
    "$$\\text{Cov}(X, Y) = E[(X-\\bar X)\\,(Y-\\bar Y)]\\,.$$\n",
    "\n",
    "If we first standardize $X$ and $Y$, we obtain the correlation, which reflects the degree with which $X$ and $Y$ vary together irrespective of their magnitudes:\n",
    "\n",
    "$$\\text{Corr}(X, Y) = E\\left[{X-\\bar X\\over \\sigma_X} \\, {Y-\\bar Y\\over \\sigma_Y}\\right]$$\n",
    "\n",
    "\n",
    "### Uncorrelated vs. independent\n",
    "\n",
    "Two independent variables are uncorrelated, but two uncorrelated variables can still be dependent.  \n"
   ]
  },
  {
   "cell_type": "code",
<<<<<<< HEAD
   "execution_count": 20,
   "metadata": {},
=======
   "execution_count": 2,
   "metadata": {
    "collapsed": false
   },
>>>>>>> 5f08a939167911398d4ce61a64c9cb09477d3b26
   "outputs": [
    {
     "data": {
      "text/plain": [
       "<matplotlib.text.Text at 0x10a007358>"
      ]
     },
     "execution_count": 2,
     "metadata": {},
     "output_type": "execute_result"
    },
    {
     "data": {
      "image/png": "iVBORw0KGgoAAAANSUhEUgAAAXsAAAEQCAYAAABRDdSSAAAABHNCSVQICAgIfAhkiAAAAAlwSFlz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\n",
      "text/plain": [
       "<matplotlib.figure.Figure at 0x1097636d8>"
      ]
     },
     "metadata": {},
     "output_type": "display_data"
    }
   ],
   "source": [
    "from sklearn import datasets\n",
    "import matplotlib.pyplot as plt\n",
    "%matplotlib inline\n",
    "\n",
    "X, y = datasets.make_circles(n_samples=500, factor=.25,\n",
    "                                      noise=.05,)\n",
    "X = X[y==1]\n",
    "plt.scatter(X[:,0],X[:,1])\n",
    "plt.axis('equal');\n",
    "plt.xlabel('x_1')\n",
    "plt.xlabel('x_2')"
   ]
  },
  {
   "cell_type": "code",
   "execution_count": 21,
   "metadata": {},
   "outputs": [
    {
     "name": "stdout",
     "output_type": "stream",
     "text": [
      "-0.00750354795897\n"
     ]
    }
   ],
   "source": [
    "from scipy.stats import zscore\n",
    "\n",
    "def corr(X,Y):\n",
    "    zX = zscore(X)\n",
    "    zY = zscore(Y)\n",
    "    return np.mean(zX*zY)\n",
    "\n",
    "print(corr(X[:,0],X[:,1]))"
   ]
  },
  {
   "cell_type": "markdown",
   "metadata": {},
   "source": [
    "### Normal distribution:\n",
    "\n",
    "$$ X\\sim (\\mu, \\sigma^2)$$\n",
    "\\begin{align*}\n",
    "f(x)&={\\displaystyle{\\frac {1}{\\sqrt {2\\pi \\sigma ^{2}}}}e^{-{\\frac {(x-\\mu )^{2}}{2\\sigma ^{2}}}}}\\\\\n",
    "E[X] &= \\mu\\\\\n",
    "var(X) &= \\sigma^2\n",
    "\\end{align*}"
   ]
  },
  {
   "cell_type": "code",
   "execution_count": 6,
   "metadata": {
    "collapsed": false
   },
   "outputs": [
    {
     "data": {
      "image/png": "iVBORw0KGgoAAAANSUhEUgAAAXcAAAEACAYAAABI5zaHAAAABHNCSVQICAgIfAhkiAAAAAlwSFlz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\n",
      "text/plain": [
       "<matplotlib.figure.Figure at 0x10a660470>"
      ]
     },
     "metadata": {},
     "output_type": "display_data"
    }
   ],
   "source": [
    "x = np.random.normal(size=10000)\n",
    "\n",
    "plt.hist(x,50);"
   ]
  },
  {
   "cell_type": "markdown",
   "metadata": {},
   "source": [
    "### Multivariate normal distribution:\n",
    "${\\bf X}\\sim(\\boldsymbol{\\mu}, \\Sigma)$\n",
    "\n",
    "\n",
    "$\n",
    "{\\bf X}= (X_1,X_2,X_3...,X_M)^\\top \\ \\ \\ \\text{is a vector}\\\\ \n",
    "$\n",
    "\n",
    "\n",
    "$\n",
    "{\\displaystyle f_{\\mathbf {X} }(x_{1},\\ldots ,x_{k})={\\frac {\\exp \\left(-{\\frac {1}{2}}({\\mathbf {x} }-{\\boldsymbol {\\mu }})^{\\mathrm {T} }{\\boldsymbol {\\Sigma }}^{-1}({\\mathbf {x} }-{\\boldsymbol {\\mu }})\\right)}{\\sqrt {(2\\pi )^{k}|{\\boldsymbol {\\Sigma }}|}}}}\n",
    "$\n",
    "\n",
    "$\n",
    "E[{\\bf X}] = \\boldsymbol\\mu = (\\mu_1,\\mu_1, \\mu_1 ... \\mu_M)^\\top  = (E[X_1],E[X_2],E[X_3]...,E[X_M])^\\top\\\\\n",
    "$\n",
    "\n",
    "$\\Sigma$  is the covariance matrix}\n",
    "\n",
    "\n",
    "\\begin{eqnarray}\n",
    "\\Sigma &= \\begin{bmatrix}\n",
    "var(X_1) & cov(X_1,X_2) & . & . & . & cov(X_1,X_M)\\\\\n",
    "cov(X_2,X_1) & var(X_2) & . & . & . & .\\\\\n",
    ". & . & . & . & . & .\\\\\n",
    "cov(X_M,X_1) & . & . & . & . & var(X_M)\\\\\n",
    "\\end{bmatrix}\\\\\n",
    "\\end{eqnarray}\n",
    "\n",
    "\n",
    "\\begin{eqnarray}\n",
    "cov(X_i,X_j) = E[(X_i-\\mu_i)(X_j-\\mu_j)] = cov(X_j,X_i) \n",
    "\\end{eqnarray}"
   ]
  },
  {
   "cell_type": "code",
   "execution_count": 20,
   "metadata": {
    "collapsed": false
   },
   "outputs": [
    {
     "name": "stdout",
     "output_type": "stream",
     "text": [
      "(1000, 2)\n"
     ]
    },
    {
     "data": {
      "text/plain": [
       "<matplotlib.collections.PathCollection at 0x10a393208>"
      ]
     },
     "execution_count": 20,
     "metadata": {},
     "output_type": "execute_result"
    },
    {
     "data": {
      "image/png": "iVBORw0KGgoAAAANSUhEUgAAAXMAAAEACAYAAABBDJb9AAAABHNCSVQICAgIfAhkiAAAAAlwSFlz\nAAALEgAACxIB0t1+/AAAIABJREFUeJztvW2QXNd5Hvie6en70d3T0xgLpCiSwOCTIAmAGCjyZiOX\nDWqlUJZXlGSbochVVAogmpIWAit2OQRhk5A8QWIKRTs72RKxgLmeSgwQUxUv1+ImTkeymtoab9nD\ntURS9li2VFnQ3uzajVSlmHAFy7T07I9zTp9z7z23+/b37Z73qeqaj75977m3733Oe573SwAgBoPB\nYEw2ZsY9AAaDwWD0DyZzBoPBmAIwmTMYDMYUgMmcwWAwpgBM5gwGgzEFYDJnMBiMKcDAyFwIMSOE\n+LoQ4kuD2ieDwWAwsmGQlvljRLQ5wP0xGAwGIyMGQuZCiNuI6ANE9GuD2B+DwWAwusOgLPNfJaKf\nJyJOJ2UwGIwxoG8yF0L8BBH9JYBXiEioF4PBYDBGCNFvbRYhxD8hoo8R0d8QUUhEc0T0vwD4eGw7\nttoZDAajBwDoaCT3bZkDOANgB4DdRPRRIvpqnMitbXP/Onv27NjHwOPkMfI4eZz6lRUcZ85gMBhT\ngNlB7gzA14joa4PcJ4PBYDA6gy3zGI4dOzbuIWQCj3NwmIQxEvE4B41JGWdW9O0AzXwgITCqYzEY\nDMa0QAhBGIUDlMFgMBjjB5M5g8FgTAGYzBkMBmMKwGTOYDAYUwAmcwaDwZgCMJkzGAzGFIDJnMFg\nMKYATOYMBoMxBWAyZzAYjCkAkzmDwWBMAZjMGQwGYwrAZM5gMBhTACZzBoPBmAIwmTMYDMYUgMmc\nwWAwpgBM5gwGgzEFYDJnMBiMKUDfPUCFED4R/e9E5KnXbwE40+9+GQwGg5EdfZM5gO8JIe4F8F0h\nRIGIflcI8W4AvzuA8TEYDAYjAwYiswD4rvrVV/v8T4PYL4PBYDCyYSBkLoSYEUJ8g4j+goheArA5\niP0yGAwGIxsGZZn/AMASEd1GRD8qhPixQeyXwcgDrl+/Ti+//DJdv3593ENhMFLRt2ZuA8B/FkL8\nayL6W0T0tfj7n/vc51q/Hzt2jI4dOzbIwzMYA8fzz6/RiROfIc9bpL/+62v0q7/6y3T06BFaXFyk\n7du3j3t4jCnESy+9RC+99FLXnxMA+jqwEOJtRPQWgDeEECER1Yno8wB+J7Yd+j0WgzFKXL9+nXbu\nPEA3bjSI6DARfYGIPkdzcwfob/7mdXruuS/SQw89OOZRMqYdQggCIDptNwiZ5RYiaijN/PeI6Etx\nImcwJhHXrl0jz1skSeTXiehpIvo9+i//5et040aDTpz4DEsvjNxgEKGJ3ySiowMYC4PRFtevX6dr\n166NTOJYXJTSCtFrRPQ9IrqdJLETER2mYnEnXbt2jeUWRi7AGaCMicDzz6/Rzp0H6H3v+xTt3HmA\nnn9+bejH3L59Oz333BcpDO+lSuU4Ef0pSWInInqN3nrrdVpcXBz6OBiMLOhbM898INbMGT0iqV2/\nRmF4L73++rdGYhXrFcHXv/4K/cN/eJqKxZ301lusmTNGg6ya+UCjWRiMYUBr1zdujEfi2L59O23f\nvp3e9a530U/+5IdHKvUwGFnBZD5lGLWuPApEtWtpmY9L4tDEzmDkDayZTxHGoSuPArZ2Xa0epTC8\nl5577osjI1VOGmJMAlgznxKMW1ceBcax6ognDbFOzhg1smrmTOZTgpdffpne975P0Rtv/EHrf9Xq\nUfrKV/4nete73jXGkQ0Pwyb3rTBBMvKPUSYNMXKAqK5MNO2hc6OQlKJJQ0S245XByBuYzKcE49aV\nR4nr16/TiROfoRs3GvTGG38wtGzMrTZBMiYbHM0yRXjooQfpve99z9RFs8QxqlBFPUGeOHFvJLZ8\nWq8rY7LBmvmUYhpDFDVGrWVP87Vk5B+smW9hTGuIosawJaV4KKJOGGIiZ+QZbJlPGfIagTEM67bT\nPl3vd/rMtIQi8mpiepDVMicAI3nJQzGGjY2NDczPHwURWq9qdQkbGxtjG9OVK1cRhguYnz+KMFzA\nlStXx3LMTuNoNpsIwwUQvaqu3asIwwU0m82Bjq3ZbGJjY2Pg+9UYx/VmDA+KOztzbJaNBvFiMh8N\nRkVIeR5P2jGDoNZ2HKOYCIdNtHn7/hn9IyuZs2Y+ZRiGntxPOvs4YrXlvm+NHPMHP3g7FQo3tx3H\noEMR49dtFCGVHBu/hZGF8QfxIrbMR4pBLeX7tSTHYSlubm6CKIwckyiE71c7jkOfb7W61Jfl7Lpu\nGxsbCMNDEcs/DA8O1PJny3z6QCyzMPrFoIhhUASZFZI0d4FoAURLIFpAECxieflcpnH0OxGmXbf1\n9XXnJLO5udnP6SYw6uvNGC6ykjknDTFSMajknH6TmbqNzJCyyBtE9JtEVCai/4+E+Cl69NFH6NFH\nH+m4r37L3KZdt+985zsUhm+nGzfuJaKdRPQ6BcHN9Oabb/Z8LBe2SvIYI4YsjN/uRUS3EdFXieiP\niOibRHQqZbsRzGGMQWKYS/as1m+vMs+orFPXeaRdt83NTfX/Bog2QNRgCYTRETQqmYWI3k5ER9Tv\nFSL6EyI64NhuBKfNGDSGQYpZCbrfyWScIYBp140lEEa3yErmA08aEkL8r0T0zwH8Tuz/GPSxGKNB\nL8k57faVNakpz2V9s5xH2nXR/69UKvTmm2+yFMJoi7Gk8wshFonoCBH9/iD3yxgv2qWzd1s6oJvQ\nuTxXLcxyHmnXbfv27fSd7/x7euc7f2SgJRe4I9IWRxbzPcuLpMTyfxLRh1Lex9mzZ1uvRqMxxIUJ\nYxToRQbp9jOdZIlhSylp++9HAhqGL4KzPqcHjUYjwpU0ytBEkqV0/y0RPdZmm6FfBMZo0WvGZLe6\ncRqh9kJg3ZB/p/33qn8POtOUY8unG6Mm839BRL/SYZthnzNjxOjXOtWk2ot1HT12E0SXEQS1tvvo\nhvyznltaNEu78xk0+W5sbGBubqmvyaHf74MxPIyMzIno3UT0fSJ6hYi+QURfJ6L3O7YbxXkzRox+\nozN6lQeMdXtVJQcdBVEJy8vnnNu3Cxd0EVe/q45O5zPIqJYLFy4mkpG6mRzsMReLc/C8eZZrcoSR\nWuaZDsRkPrXo1ZLr17KXhbO2Zfq8i5yDYBd8v4b5+aMIghqWl8+1Pru5uanS/xtD8wcMwgI2x3xa\nTWqHQRTiwoWLXX5er3CyXU/G6JCVzLnQFqNv9Nq8oZ+iUNu3b6df+IWfJ6IfyvT5ZGTMS/RXf/UX\n9L3vfY3eeOMf0V/9laAnn/x12rnzAH32s4/RO9/5IzQzs5OIPkBBsCtTwbJuz2cQTS/MMf8REX2L\niH6NKpU9dPTokS4/f5iIrhHRrtTxc7RMzpGF8QfxIrbMh4osVl7etNBerF8b/UTG+H5VFb1qKos2\nWi/FHpPv1zLVTxm2I7KbbNPermG6Zc7RMuMDscyydZDlQcvbw6jHIwk1RBAs9qW5Z9Gem80m6vU6\n6vW6lVp/WentsF77INPt0bUz8cKFi/D9KiqVgwO9zr1km3a772p1CcViBZ43H9kXR8uMF0zmWwRZ\nHrRxNYhIi8+u1+uJ8WS1frs5lv2+rpgY7zwkdfdSW8s867XSpDg3twTfr3WlW/cb/TKISo9p0Sx5\n7F61lcBkvkWQ5UEb9cOYZkXq/5fLd4Bo70jGk0bYmgxtotfW6MmTp7q2dHudMLOsmMZNpmyZjxdM\n5lsEebPMO1cMdGmzDfh+Fevr611Zl9kt2qSUEifD+L66tXS7IVy97+g1kdcqCGqo1+tjX1nFwQXC\nxgcm8y2ELA/aqB7GNFJbXV2N/f8qiErwvJ0gCuF5d4IoRBjuyjS+7izapJPTtsx7DavU+rveTxbC\ntcdtnLDRa1Iu39OTLr65uYnV1dWBN7uwzzlPDvStAibzLYYsmYijeBizWebSGi8Wy/C8+ZheLet9\n2wk98cSebrIzzXZX1WpgT0Qz78UpfOHCRRQKJaWt74XnzUf2166OTPwamGQf92rFJuZ239/Jk4+p\nfe0HUYiTJ091+9Uxcgom8y2OQUavdDsJdKrlHQS7IHty7klo57LNWx2e9w54nrZcoxa7TF8/BBlx\n0mwradhjsRODepUuTLblXkW+V9ta+vbf7sSlRRSLVRDdCqI9loW+AKL98P1ax+8urefpsCx0xmjB\nZL6FMUiNVYfazc0d6mpSSJsAZGx5LcUafRVE8yCqKmIzZGlb7OfPP6PI6x71/6e7yrRsNptYXV3t\nup5Js9m0xm6vJJoolw8nPmscvlI2uXDhovN7kbH2z7bOMU0SSsPq6qqyyO1JcR9WV1c7fh+M/IPJ\nfAsjaQE2US7vR71eT/2M62E3Vmg20uxtbFIn9v271LF8J1lKi30DlcpBhzSTPX3dhA8eSliznc5t\nY2MD5fLByIpAjuvZliRiOzfj4/S8+Rah61XL8vI563pcVRPZvggxl8uH2353aY2i19fXI+eclxwD\nRndgMt/CcGvFe7tKKEqzQiuVg32FxDWbzQTJFYtzqNfrWFtbQ7l8T8zCXIKMRpFWq9Sq90S2mZs7\ngnq9nikDNmoZPw2iEKWSe9URn+Bck5ucfEKE4SF43jyKxQrm54/C8yqJcRLtaTlM7Zju6JhecBBz\nCUGQLrdsbGygWLxJfW4fiELMzm5vHaPbVRpb8fkCk/kWR6f4ao20h71er1syRFNZo3fB96s9RX7Y\n5FUsVtQEswSibSgWK6k6thx/gCBYRBBsA1ERcWlmdraSyfJ0adZEiwiCHQmylPJSDXNzS6kSCVHg\nIN5t6np9wWktr62tOb8rV5x7XGpKI2Fz3V4A0SqIXmht222MOlvx+QOTOQP1ej1h6WZJKNKWriQI\nXY3vHhCFOH78ka7GECcHIyvoCaLZGpMrgWd5+VwrmmVlZQVSG9YOwiUQhSgU5hKT0ebmZiR0ELBJ\nr6GO3bDI10SPGAvcbCf9BlGNXZKtayWxAaI6iG62xrkAoptT5ZK4NSy/uztg5JxsJBx3OneyzNuv\nEjg5KA9gMmf0nFCkNehe62S3S4qR0Sy1CFHalq+rHK1GNGqjCek0nHVIM3uUBV8C0V4Ui3Ot/cVD\n+IhOIR49UiiEIFqEqZO+AM+73SE71ZAs0mUmh/iE4HnzqaGjLidtWohnuzIJ8YQjoHN0UXKizWbF\nM0YDJnMGgGzJJoa0D8N2dEallmwPdzwpRiYDmc+H4UE88MCDEUI9ceKTmS3CkydPqc/eAqIQxeK+\nxIQjCTVQRGp8BkGwTUk88eiZLPJJiPPnn1HO0yPq/adhx68XChUUixXlpK3g/vs/hCCooVw+nJoE\n1K4hRFJ+ecwpgWSRRtInCzPZBEGNLfMcgsmc0UInh1Za3LarIFanEMDOzrxQWeZ2ka2khGFPGvHx\nr6+vx5yoJ5UVruWMq5COwLqDqEuwpQsZ3x2NHpH/i05CQXB3JF7chEceVhb6SQRBDefPP6PixveC\nqIRisZJYZUSvU3rZWdvaTlvlpP2/EwFvbGwgDHcjuvq4BadPn+k4+TNGCyZzRma0k2O6KQOQ1N83\nlAVtdGPPuyUhi1QqBxMSRvz4ttXpCr2UxHpZ/f6q+vtZJMvb7lHbyeMEQS1x7GJxLjEJxZOC5Kol\nOgG6zoNoW6I3qSRSnca/kRhjtbqE5eVz8P0qgmAHfL/qlEDK5cNYWVnpSRpxJxrJqJkLFy5yNEuO\nwGTO6ArtSDtrqFp6unoD7ZbyQVDD6dNnEAS1lDra5vNp1mixWFEJOgchwwV/UlnM0Wgez5tPHMd1\n7jqaxQ5bjE8sccnG96solQ7HJo8llMv7I+Sa1P63xfYzD6JZdR5SihLCd0b6SCkrGuqZ3TI/lBgr\n0WWWVnKGkZI5ET1HRH9JRK+12WboJ83oD4OIL04Ls0sjT60X6xrgp08/0Tq+SwoIgkVsbGykErCU\nOBYVEcpQxkKhjLm5I5FJIn6e8SJVOrSzXL6jZa3GyTQ+MVy4cFGFT2axzHfBrFgqkAW2DqNQKMPE\niwcgerA1KZ469ZgzZFFPZP2W7NUJWuz0zBdGTeY/QkRHmMwnF4NMFIlHabiiLPT/0yJpgPTMRk24\n7rA6HUp5t/rszSAqoVBIzxLVE0OpdBi+X8PZs59PtLNz6frxZKUrV64qa10nNknNPE6upl3eC5EV\ny6VLlxSBXwbRRWjHqvz5dpw7dw4rKysolfYgHrKYJWkq7byzxrMzxoORyyxEtJPJfDIxiEQRV7SE\nq7uPjY2NDQTBwdhSXyYm6ZowcedkGLozUDc2NlAq3Y2kw1PLNFEL2Q6flNZ8dMIg0iuCq0jXw80E\nkXRqXobnVRPFruLt8jzvlpbl/5GP/BSMI1dHy5hj+f68mlCi7/VDvvp7iktPjPyAyZyRCVmSStLi\nlzUh2jHiWlpJyz6146TTqv2VSgcsy9g9NlsW0WP0vDmkJ/Hc09Ku7cmrUAjgSruXkTB6MngBvl/F\n2bOfhyuEU4+lUxhnWobrzEyI2dly4nqZujR6TJdhXyfdZ3QQDstpT+Gf5PPLJZmfPXu29Wo0GkO+\nBIwskGGJbhK6cuWqcq6ZMLt4bLOrYJWJJInuNwjuRrFYaaXIy4iNRUhH5X71c4fa5pCyio1sUSxW\nceXK1UTiT6FQwvz8UUWI8bFoyzwEkYcXX3wxVrXRRaIlReaAjmcPw0Pw/RqCYAfsCJYg2KXS/jsX\n7nKXE9gDotsg4913xd47rI6VDKmcmzuC1dXVxEQ66Vb1MEh30koUNBqNCFfmkswZ+UNalqcrYkRL\nFdH3pNVrp+dLaeRMCsk3IseRBFxT+6iByMNDD31MWfbamShliyCopejoOuvyVYvQ71A/d8AUxdJV\nGW+BCQs8pCaMbdC1YgxxNhzHCtRE5XpfHsN2ttpwW+Zm7PHrY1vf8ciZtO9IN8aeREt0GKQ7DSUK\nxkHmi0T0zTbvD/ucGV0g6oDUTsPD0DqwLPealCxKpf146qmnlCUKRURzipSOqp+esjT1frXVujOy\nP9+/S0Vv2OQ21wpVdDV9fuqpp5Cs3a2lFBl7/clPPoKZGQ8y+ccuV7sLRI/CZIfqsMCn1USyV71X\nhLSYffUZvY+r0CUCZLig3s6MpVS6CysrK6lp91GnYwlak5evg+pa7oHOOLWdq/GIFbelvw+FQsmZ\nUdrt/THKyWBYpDvuZtiDwKijWa4Q0f9DRN8joj8jon/g2GYEp83IAtM04Q6LMKVlrUvcpluRgYrl\n1k64JmQNbrNdoVCBkQyakJX8diLpnAwRBPsRrw+ua6+7Hu5OlrkuSev7OppFOwq1ZX5EkajuFuSr\ncUid/tSpx9Sq4DKI4k0w9MSjU/gXHWMJUSiEKBarqWTabDbVZBXEPltS1/Kcs9Rwlvotcpzdx527\n7o9RyhLDIl22zIfwYjLPB7KmkgPyoZ6d1ZZiCdJifThGxjsRt6CD4G5Em0w0LGI1K4BCYSFGlk/D\njjpJS2QytV30uDz1+3yCyIzUEifdefW/S9AOTl1pUYb+rUFayXGy3UR0UnraGktFfSaeqFTF2tpa\nxFpPhjGGkGUJmonvoZ2VfOXKVeUD2KvGdQ6ujNKspDgu8hvmcUfVzHxYYDJnOJHW6cdVDKrZbCoN\nugIZt11Tv0sr2vcXVep73IEYguhnEY38+Cn1912Q1qd+P/45L+JodVmja2trarLQ6fsN9fdajMia\nCMN9+Dt/592JCcfIKHtBNI8gWMTy8jnrfPaq8VyF8QcsguiXEmQpNfi3q/O8rN7Xn7mo9icdqUEQ\n18ClP2B2tuIMD+xkJZu69dqJquPT00mx3eRg7o9kieJhY5ikO4k+BA0mc4YTLgsoCGrO0MN6ve4g\nah3poa1tW3bYA9+vqexG7Vy0JZSbQOQjCA7A8ypKCrFJ8W7okECbgHTon65aKLX8uN68B6aPpj2m\ntGqJcWdjoNLot8W2m4Nx0IYwpXXj+/JhHMHah3DIOk6ngl/74HnRolxZwkZdoY6zs2V43ryTFDtN\nDpubm6qbUw3aB6Kbh7S7p4aRcMaQYDJnpCKrBSTJPGnRhuFu+H41VttD9hldW1uz6qm49NwXMDMT\nwvOqDlI0cdXaGjRhiLutyUNas9IS1VEsujjW7ZBatLsmS7l8WL0XDQMsFnchCPahU2EuI+uUEc2c\nfFId/wX1XgMm0idZTMsVN070ZISsO+nIrvd1v1AXKXaaHNK6U8XrsLvupUkJ+5tEMJn3iX4thLxb\nGFnG12wm+3XOzs619N80YtAPeBBoB+E+mGzKpkUWxqJ3ZTW++OKLFoFrYryqrEYZeuh5t8Dz5jEz\no63jeRBtRzzKpFpdwtraGlZWVlR/zqgFHgS1WDhkmgWtVwBFSGnDfk/r8Pp8L8LEuSedv3K8JgGJ\nqIYg2ImVlZVYiYLslnk7nbnd5GD2pWUi9wQSvz8m3bk4CWAy7wP9WhvjtFbaZWzGt9Pp7O1IXZ+L\n798FmTyzq3VOtoXv+1U8+uinsb6+jo2NDayvr2NlZQW/8iu/osizoR74y4ha+00Q3Y6ZmSAiDZw8\n+ZiSRvZZ22nN3oRBzsyEVrboPKSFnLTMZ2fn4HkyGUmSv95mDzxvvnU+SaekjygJ69XALkSjeBpI\n+gAWYCx2PbFpLf7t6jjnEA17lE7dQqGMCxcudlxFmYJg+1t9TNMm6jTy1feL0cqzEfQ0hP1NApjM\ne0S/1sY4rRVJRsaBp0nKtZ1dH8QmaBdMYahG4pyazSYeeOCjsDMyZ2bepgj1h9TfmhSXFCHHI06k\n9VoszsUaMbygCFMf90SCpKVGvBNGo9fZnXGr34MdNROGC1hbW2sdzy7Ytba2Zp2vvZ8qpLVtZBG5\nv7vU+cV9APvU/59U43tB/f2CNf4qZIRMsg46UYALFy52jGaRq4p98P15PPDAgxFDIp7qbzJ3j6BY\nrKJYrLRa9ZlVmDnndvcFW+ajAZN5j+jX2hiXtdJsNp0ygSuSwR2b3OjJAkurryKdgHsVSZURzZy0\nw/lMMSuiPa3qf6b0rXYi3gRZ49sVlTILoschrXa7nri2oOPx3AutOG4Tc39PJBkn7g+QCUi3gKgE\nIUIQFdTEsggpuehM0/h1eFvrXGdmypAWeXz8erKw/78Eor3w/WoqOTabTTV5m5WKnLT05KczUqNW\n/YULF9VqKfq92aV00/qwxjHpYX+TACbzHpEny7wb3V1mbN6BuN5ZLh+OTCTurMEjIFqNJAy1T05p\noFisYH19Haurq0hmZO6FDOEz1rPn7VRREreAyFOEWEQ0oqTUspTdafQ3O/6vJwrdC9SLve+ymGXd\n8PX1dUWGpkOR5813TEwqFqvw/dshQyHrINLafjSOXoZf1kH0BTWut8G1spBZsPH/bwNRzZk8pCFD\nNNOijdxyiVn1uLXxXkrp5t0/NOlgMu8D3Vgbrht5ENZKt7p7f5Z5CF3/+/jxn3EeV4+nWNQJOJI8\nH374Yw7iCyGlA2N96qxIXbRrdrasdOttkFboPAoFWatckpSu2b0BmYmpSVnXXrHlk/ixA8jU+Jr6\nO1m6lshTk0sI3fhCrhD2YGVlBaZ5hI5+iYdB3gopkVxV+yyqfe1SY9Vy0l71eR9ET6jx63OuQq4q\nGmo/VZhEqAq0HOTSvk+fPtOm4uOzMA7j6MRu2sxl18YZ4wWTeZ/IYm20I9x+rJVerfu4A6+TZi4z\nNe0okkaCmO3jpjWLuO++D0QIXhJb1KqWoYNRy7NYnFNtz94BXZkwDBfw4IMfhekUpCcPO0tUE/YM\nks2Y98K0XNulSNFX1+SIItmLiuzj2v08iAJcunRJZVU2IK3c+HbGStd9M69cuYr19XU89dRT+I3f\n+A3HddLOW1kioFDQq4z9sCN9PG8nZmdLrQJbLoennBT1ZOaaSCtwlxqQYzUx9+218X7v4SyOeEZn\nMJkPGcN0/vSju3cTzbK6uqrqrOjjbCAumdjHdUsqexAE+zA7W8HMjI9S6QAKhTKKxSpKpUOYnZ1T\nFmScdJdacenJpg8eTLJN/L0FSN35C23I7EWY1PoG5CohKqdIK3jJMRH4mJ0tK8s8VFE8OuQxaaWH\n4UHU6/XWNdXNnpMJUXsgJybZ3zMe8mn7LeIO2WQ3JTuCxkO04mMZRD5OnXoMp08/odrYRTsJ2e3u\nbG3cPlY/EVntSiczusdUk3keNLphOjpHFSXgJod0y9ytZdtWqvk9CGpYW1tT0s8LDlLe1so8TWr4\ne0F0ADJsz+XwvE2R3824774fh70qEEKHEl6EtN61JOMpgtfElkx7t7sS6TIBnldRCU5uK11fH90A\nem5uSVm/8e5F5trMzISoVI7EzmsffL8aCS2M1ypfXj4Xq2S5oc7bLj+8hGLxFvh+DfPzR1WmbbTN\nXKVyECsrK5EJv1Oz6qz3n5T74tc12QeVkR1TS+Z5yTgbNuGOKkogfpwTJz4J36+2lvnxiIaTJ0/B\nxEvHteQl6FK01eoSVldXraiUXRaxGmvNXMcGdD9MSfxac04Sg13/e21tDefPP4NisYxy+U4rgUiG\nZ87OzuFHf/THIJ2nVchiVjVIK9uLjEmS/VXrPJpKAjIx6Sb78zbMzMhYcFdN+GKxYskh8eu0K7G9\nrkNuQgeX4EqkkpNj+uQrzy1os00ywiWtLEC8z2gWQ2V52TUBL7W6PDG6x1SSed7iWodNuKNagcQt\nwbm5JRSLVczOlhPxyibm/HG4Y6NN1b+kxv4kiDwEwe5Igsv9939YkaRO2f9JEH1akd5VtHNEXrp0\nybonmpDOP5f0smh9vglpZd+kCNyWX7bBFKyqwVjyz0BG6GhpR5L07GxZFSOLOht1s+e1tTVl2cdX\nAD8HohCVigmJlNfWJSuZEgeyGFhVnY+P6IpDNq6OhlUCQbAI35eRMa6Vl3t1FC03kOU529zcVOfq\nXoWxZd4bppLM85hxlgfJZxBwW2eanI015/s11eoNFtFKzbxQCCOOO6kd6yX+JqIJQK+iWJyLWa8V\nyBK7tjP1aYukk/W/PU87UHXq/B1IRnjY7ddsieVWuGUcHUMenxDuTJChJP5kjLnv11ryiwk91GV6\nT6ntd6P0VKt1AAAgAElEQVRYrOD06TNWA+u4T8KMXU+qppuSLnt7EUR1lEq7rdo4UcJu16c0WTu+\ngdnZMny/mtlQkaV49fivqvM02aysmfeOqSTzvFnmeUUvE4w7/nwJ0oJ1hTI2Wg9+oVBCEGxrkb2d\nhi4Jp6KIfDdMFqVdo8UmxqRV7fu6BVwVxio2Dj25n8AifpcWriWDReu4rm1rkM7VvYhq0Ychm2xo\nC1y/dxAmy7OmCN/H+fPPxOQXXRzMZbnq0MWGda319kGkcbO7fkw06UtPDPGImHbPj4lwkhKQjixy\nJQ6l5yHEx/8sPK+Czc3Nvu7NrY6pJHMgHxlneb4he/UppFvmdSQ73t+lSOkwjJMxShBG29WEqRNq\ndCnZE4i2ZAOkVReNeimVDrXasD3++BPKKt0BW8+Vk85li7RlnZNSSWePapK/DClL2E5DXW/cDvXT\nce3bYDIrKzCNKeLnomPMZbhhsXgnwnABhYIOqYxb/rfH/qfT/q+qlynJUCxWW4Rar9dVQ+l4FI4p\nn2tLZXpidUWpuJ4fl8wTN5Zc91fUEDCrNd+vdVV+l+HG1JI5MF4yzfMN2e/KxX7QPW9ehejthisd\nXhLbBqS1HdVoy+XDKhsVMDVT4hOFdj7a8eMuy1zGRp8//4wV++0qR6Ct57oibb8lX5h6NbobUClG\n1GVFxPMw5QPiyUhVdQxdOCu+UnnBMa4S4la4lJVc17Ohjr8GV8SMJmmX87RQKLdWRnGnabE415bc\nbXSSMdPur2QFzUarc9Og7s2tjKkm83Eh7zfkIHwKcWdouXxPqyDT3NyRBFlIskpeE6mfXoaJ8bYt\nVJfEoq3iR2BqldRgpBTdFci2/uJyi04O2gsiOWZDNA2YYldxMp5zEKyr9O1+RepxnX0fpARzKPb/\nPSC6D3aK/6lTj0HGydcQLQ2sqybejrjmPzd3RF3PaESK3M6VkKUnN/d1vnDhYup33+7+bnd/dVox\n59HfNSkYdUPn9xPRt4joT4no8ZRthn/WQ8aob8huVyCDmmxc+/F9GTdudNtbIS1I05hBR2YcP/6I\nkkN2QRam8mF09jpkJEy0OYQkyDoM2d9u/Q0kLdIGZKanJLXZWW1xRwn53LlzVnjkUUXG8QQmHbse\n/5/dPKKmxuOaDEIQPeX4/zYQBSiV9qJYLOP8+Wes7k12RUhbu0/q+DJ+PV74aydkHP6zSE4u2ml6\nGUln8EEUi+WI1WyjHSl3ur/a3a95N4TyjJGRORHNENF3iGgnERWJ6BUiOuDYbhTn3ROykuYob8he\n5Jxms4nl5XPOXpJZoTNDg+Ag4mTr+1UcP/4z8P0aPO8uEIWYnb0JRCGC4E74fhUPPfT3EZdPgmCb\nldxjN2G2LXzbqer6u6YIvgZpIdcgtXMpq8gqgHFSkySanASipGu6FMUJWtY+KRQqmJ0tt8ofFArb\n1TkfUDVmQphEphKkpi0tbs+7U61qllpyiUzI2abOJ0QyqkZb6QdAFLba5clxmXZ4JpLFtcq5S43f\n1S7vpoSeHc80dXUpsldsvdxfefB3TSJGSeZ/m4h+2/r7tMs6zyuZd0uao7ghe5k04ufRqXxpuwJh\n5bIrBE/Hf7v+r0k3SZSScG53EM42RTZyUjh+/JHIdT158pTSyO2uPXY/zmhz6UrloCPrcgFuy1U2\nVw5DEyUiVxLbYApgeTBFs25ShD8LU8ZXa+d7YcId59XLjlvX10c6YH2/qopklaDb1xUKJcfY50FU\nQhjuaskYrpZu8thFmBWHvlYbFqGHkNZ6DSZpykS/ZGkabb8fr5He7b2d1+CBvGKUZP5TRHTR+vtj\nRLTi2G74Z90lerW0h31DdivndHsepjvNHZHkHbOPDchl/AKMlXkzZJKNSy/eUL/XFXHbWrNO9rkr\n9rklEN2OYrGM06fPOC1CWaK2AilJ1JG0MrVT0o7B1nXUTfEqd6/RF+D7Vayvr6tEHF3f+xa4HZSa\nvJeQ3mDjIoxuvwfFYhWyxovW+KVz1VSeNCsTWUHShwx11GOXtWKOH38EgOzJGk3nB+TKYUFdCx3e\naI9pt/qOzlnfZwlEn0ClctARY95dazom5+Ejl2R+9uzZ1qvRaAz9InRCXp0y3ZLzxsaGMxkkrW9j\nvKFBsViJZQE2FVk1YFLst0E6M6N6rrE8dW/ORUgL2u7I83m49ORCQSamxC3CZlOWeC0WyygUdHq6\ntpIvRoisXN4fyaCUsordpu5VyGiVuMNRFsmS8owmez0ZRa+lnIjsqJR46zs9OV1u1aTRL+m4jF8z\nOZlIAl5XRFtS164MGRppR7mEWF9fdxKvXL3oycfuihSvMOn63oo4ffqM8xnQdc1d2aFxp6fuVJSl\nmQWjMxqNRoQrRy2z/Fvr74mRWfLslOlGznHVBnGdR7PZxMrKClyOwmTZVx2+F0+jt3tV6uiTefW/\naPx1oRAq+eKyImOTFSiJOVoqNwwXcP78Myo+27eOU1EvHddtJorTp89gc3MTy8vn1Ph1SYC52NjX\nFVHaLdtCSNnkKEyKv4t8dUy9JjSXtW9K4dokJ+WTeHehg2qfdt2XeOx62brm+zA7W0K5fEdLkpmb\nO9KS01xdkcJwN8JwAQ888KC6nq6s2DI8r5J4BnRVxWjRLTOxJ8MRjY6v71W22AeHUZJ5wXKAesoB\neqdju1Gcd9cYp1Om0w2f5YEwE5ImAxkCFw8/0+dZKu13PNh74HkVzM5uh0mlL0GniSczFmuQcsQZ\nGHlFN3OIWo3nzz9jtSjTE8WzisyiZWJ9fweMxpte98XEb59s1UR3E+LDMJmhC9ANOHxf1iqREkgT\nkvj1SkU3jLAnrJuQlDB0KKUsO3D//R9pSUXJ5CuXc1fHpV+GOw7fSEimBK9poed5czh16jGrMmV0\nUoz2Um2oc4yvDuRqR/cN1c9AvGKilK4C6B6vJ0+esla1zcTY45MBOzr7wzhCE/+EiL5NRKdTthn+\nWfeIcVgRg0o+ikpFMqsx3mosSjCuFPYQssWZK7TO1GYxVnUZ0V6TDUU4UT3X9+9S1QwPolCYg2kY\nUYWUXqpIOk8vQ1qsLhlDa/N3QlrqR9V4HkghRDs7MzrJrK+vo1DQFmdc/w4hU/rrIPoMTHRICNMs\nYxZGy3+2VUjKJd2Zmuh6H7eoc1lS17eauHYmXDKZYWs0/ABEt6FQkMW+yuX9CIJay0FpJJImTIem\nw4hKME8iDBdaLQDX1tYyFd1q136ulyJdjHRw0lCOMUh5J4uDKllgSUolYXhQFc7akUoomiBksSgT\npTE7OxcJgTxx4pMO0tEkqMlDx5vvVD9l6J3n3a46Dt0Fqcu7NN4akhEi9qSjZRh7/HdBkn00rrxa\nXVKt6TxIi9XVw1SXGYivEHQG5z7IScBMKlozdlnms7OawNfV5+xM0qRMZq6TXiHY4zsI035OZ7F6\nKJXubiV4aR1byjyacHWZAvs7WYDv72jVPw+CmqNxRjSBytbM3RE27u0ZvYHJPMcYtOM1TSoytbH1\n8tw8cLoxhClpezdcMonuWtTOSaYnDt2gQVqi8UzRBUWCzyaOQxTi7NnPW5beIZgIEBl9IYSHMLxT\nLfnjGvRdIPoEklEo7jT7MFxQvoP9kJNHnLD1OOtwZ3XayURG/tGTqPFhxK1gPQF9CqY4l5bG9ArC\n9ilU4C4foJ22DRgHdUmNNy5J+TC6/GXIicCuh3NIbWP2r8sDpMkucWNB6vbpMo2Wfdg67w1M5jlG\nt5Z5Vu3cXclOH0MSinac2bKOIR+37t7NeE1ESbxtmo41vwOujEXfr6rQQju6pAkZFx1AN8MwjaH1\nWDTZ6ZK5mhC1nAHYxZ88bx7Ly+fw4osvWiRpR4H4kNa6br4Rr9EST/M38k+5fLg1wckJ1CZNve+b\nrPHaMeG6VIAdo66bdGyH581bk2QNckLTWa0LINoOohXobkOS2DcUeT+LQiGE72tHdXTCC4I7Y9+H\nKdzVqTiX6/6L1/jRKwXWz3sDk3kHjNvbntXx2qu27rL+K5WDWF1ddZ6ztqrL5YMtYo2PQ8am729F\nbbhQr9dRKum6Kpo0GhZxujT7BZTLMuZ5ZWUFxeJ2RaiupsTbVAGwBSUPuXR+D0mLvKHI1IfnyaSo\nmRld2GsfiALce+97HPvTJWvlBCejc9Ids9GiYPHtXCGaOkyxDNlwOjrJyW5J5Zamvb6+ruq72PvR\nlv8RdRxN+Cb6R6+ktBVdLh9EsVixVkTJMdnFsnopLSHr2UcnqEnUz8fNFUzmbZCHyof6Zm+3/OxH\nW+/ls+1uWpMdek/qNYvWMK9CygGHIZskH7BIyk5XN3q6DLlbUgRUguzsY2v90hLWjaDlcj6uk98N\nU2fFWORmn7r412VFeKsoFst48cUXU8oY2FbuIu6//yOwVwIylT9e8CuMRQYFIPoQ3Lr+LWo7XbM9\n7ifwcf/9H4pEh8iSDXqcyWgSl0/B7vRj9yt1Z9s+pn7uT6T9dwPZQq4Es3q4OnH6eR64gsk8BXmI\nLc96g/SrrXcTdtltkSTds7LdNqZ7kCtSpgJpQeuEnHjoXAmmfnjUwtV6v5QyXM5GW7NtwMR0l2DC\n+3apv88hCHbB92sole5OIdQ6tC49O1uC0dNlw2cZ7tmEqZG+CKO7P6H2oWWb+NhcFraWiYoq4kaX\nDJCTRRDUrKbJG44JYg9kIpL5e3n5HID0muXr6+vKinb7GAZRrG3S2sflgSsAJvNUjDvrs5sbZBA3\nU5ZYdr30Tptc3F2ITDd5IC3VXNcXh2o1F8Kkq5+EaU5xBu72bZcR1bOlZq5rcsuoi6jOf+rUYzh/\n/hlEHZAuJ6KOv64iKgHdh6gGX4DU+3UkTggTBnkVlcpBRY5Pw2SZ6lrtyZ6bUdnGd6wEFkH0Wci6\n5q74/jVUKgfxqU99Wu37HY5jbIOMmIlKG9HWbsn7v9P73cB9z5hJpdf7dZQYN1doMJmnYNyzbbc3\nyDCSmuwKeK7Qsvj1SE+EebJVEyW9CJQklGJxTlnMt0Frz5KMG4qkojp6sVhthT4GQQ0f/OCH4XnV\nSPVBWaxqHjLrswyiIubmDrVCJXXrNKlz68lCW886quNWNVFoSWav2uc5axLQFnvcGSotTalh685E\nWiZ6Wu3/biQdobdgdrYcq4ao96kdrBtIxm/vhW7i/PDDujqltuJLsKs1xksdmO+wgXaWd5ZuQ1nv\nsW6fszxIGjbGzRUaTOZtMO6sz0Fq2d3CZIJqgkomfcS7y2xsbDisXWkRl8sHrIffWNF2g2dX7LIm\n5GgTYBOKePr0Ey2fwvr6uur6bhxp8pg3w2R8LkAm9Gy09r+5uYmNjQ0rweVJmMxTORnJ/YaJycTV\ndMOUEohampcuXYK7mJe+ZnY3pQXYSUbxe9GE9en6OHZ0iyZjV0cmLeuYWPy1tbXWPZO1tZt9j/Tz\nfLhCFjvJfHkgzjjyULaXybwDxrmcG/UNos91c3PTIlWttSYdaPayXFtKvl+F7x9Qn9Mt42SGZzQh\nqQnPewd8v4ZK5Qg8bx6nTj2WuhqJWoJNEF1GsTjXcvh53rxqbhF1pIXhnTFCa0BarS+CSEburKys\ntBzMx4//jINYpSwj9x9PzNkPab3b/zsMqe0b+cJMSPGGF9oX4J4MXBOmfc11Y+Wo1q5rtex2jFfX\nsJHWeRAsJrKA5epJTw7J1m6ue6aX56OXAlx5kTRcGLf0w2Sec4zqBokSso5PRozEjUWdXJbHnXXa\nupSOxIcf/ljKdlESk5Ua3ROGtEZlpqPOYGy/v22q3osmtHjUyruhU921pONurbaowiiDFOJ16eyL\nILoVxWLV6svZQNKK9x0Er2PP21udLqkjmgFbhjvr8guwi2HFE3tkfL6cHIrFSuaGJ6PodpVXyzwP\nYDKfIvRK/O2LPpmEnFLpUMKCctcY0Z1xzP48bz7Sfcb3qw6n3mEUCmFiNZKsGSM7BkUt/Q0HKe7B\n6dNnLM3ddY5zMKnuAZKWrLay1xTBRWUeScY6LjyeyXkCvj+PlZUVa6y25q5rz5QRL7BVqRxsuxpr\nNpt49NFPw+0QvlWNrQip32uNfhtmZkJnh6m0lPssRNmLht2PhZ0HSSOPYDKfEvTjFEqLKDAOs70g\nCnH69BOJB9s1Ebhbs+1plQXQSS1Jq3Kh1QjBnpSilfekk9BEh6Rb5kGwLWbVx8l+L2SMuk3uycxH\nUxXSzjjV8ecH1e9FmAJhNRjNfA8872a4pZ7PW/sI4Xk7EIayvK++Rq7J+cKFi2qCivc71ePVxb8a\nIPKUQ/lWEIUoFKRD1Z0F3N4v4kJSlhmNhT1uSSOPYDKfAgziwYh/XsodYWKfruSleNbn6dNnHKRY\nwuOPPxGZcI4ffwRxi9YVIVOv1612bdKKnp0t4+Mf/wSi0RmnoGUYz5uPTGjr6+spxLcZm8ACta8j\nkCGOuo5LU+07boGX1GdOqn3FG15sU4QtI150mQQhklUOC4UKPvnJRxAEuqhZiCCIWujJmvR6FXAP\niEqYmdGlCeQrCA4knMJ2CQYgPlkm7yPtIHbdT/0k/GTNFmZkA5P5FGAQTqH40nV5+VyiKxHRHgTB\njsSDF8/6jDYjXoKdWh8nCpnSXnXKCqYAmB3GZ2QfGa+uiVQSledVI9EZNszksVf9jBaO0pEr2vLW\nZWL1dZHnpNu2vV0Rt64Js672o8nNDv87CKIVBMFOrKysYHNzU1WXjMfb65BCHaueJFX3qkfH5uuf\npnCZvLbJ9H/fr6bU54n6RU6ePJW64usn4Ufr85LM07OFGdnBZD4FGJRTyF66puvoh6BbyKVtZ8eU\na6treflc6oTjWjK7j6+bQ0QzHYlClMsH4HmVVp/QOEyo5QEYSUSHIL4DUrf+GFyheJubm1hZWcHa\n2hr+3t/7KIx1vk2R9w4QPQod/SHJXVvC2nI2DsXl5XMq5DN+fjXIzMpkzfe5uSNYXV1VjliXFNSI\n/S2Lbbnrvywkatnbk7n+vqJdgpL3Va8JP9FyDuZ7ZEdmf2AynxIMwylkCFCntj9tEUKppW1nIelu\nJ5yNjQ0k25zFNesqiDbhebdb6ezJCIxoIoxdClZnYGqClKVk7VA8qbfPwfYdRK+DH9nHzEzYsmaD\n4ABcETbS+bsN8axUUxlxd4Lofb9m9QrVEo2OyqnFCPUIiFZbhO0qteu69vFJtdOKr9dciOQkvQCi\nZm5CDCcVTOZThDh5DsJB1GzqfqC7EhaY1s87PdB2JqmUTY7A92uJios2pMZtt2C7jGgG5tEYIcdD\nEg0hy4lht/W5BcjU+2ric0RBpKSvdO5tc5KPu8enTMLZ3NzEuXPnUCzuRrwUbrm8H8vL55QTcxFm\nlQAkQztNFUbZK1T7MuyJKW6Zy4nL/h50nHunKJn4d9/pu+3WiHBb80sgusyWeZ9gMp9CDDrd2dQ3\niYYa6gfPpbfH39NjOXHiEfh+tZVOr8cWT4gx1fm0FlxDMgOzAZckIS3T21s1YTY3Nx2Er6WIKKmU\nSvtb1mG9XkcQ7ECyIuNhRaQnkQxl3Isg2KGqJLoqJZoCYJubm6jX6zh9+oyK7dYrhAAye/MgiHzM\nzNjNNC4jrpnLTlBVhKGMigmCRef33ssE322N8iz3UtIyL7EDdABgMp8yDCupwjg5D6cShXZoaeKO\nJstsQOrBScee0dfvUG3h4u3IpJYsu8froltNyPC7W5HUnufVZxqtCJyoZAPIVP0K4pZ5sTgXybBM\nD/+7He62dSFkdmn8MzISplAoOZswNJtNrK2tKQdnAyaevqqqPupxJ1cDdsSJrmeelrHZCwYdBthu\n8mf0jpGQORH9NBH9IRF9n4iOdth2+Gc9xRhmunOaozJa1ySq8wbBThh5owbT1Ue+5uaOqEJYOuxw\nHsl2b7LyYjTVfh7SablH/ZyH0Z7L0CntutmCyxqUx7U18zKKxYrjXEzJWZ38ZBJ24klED4JoFa5+\noZ/+9KeVbOOeaO0JUROdmRDtsNGK01rOWwGqduA48cFjVGR+BxHtI6KvMpkPF706pXp5sGzy8LwK\nfD/aAq5SuQfu8L9G628ZA90+OsP3a3jxxRdTuvI0rc/obMd5xCMkotEa2/CpT30aa2tryuqtq1ez\nFTWSDMtcxE/8xH+L9fV11Ot1rK2tWbXCtUM2UON2yzqXLl1CuXwHXE2M440gXFJVPCu2ffu/dN9F\nJ8dnnjFJYx01RiqzEFGDyXz46MYp1UuxI8AVm5zsGykt8zsjpOh5d8L3q62xyQSjZLaovY3scJOs\nn2331ZTW9bMRyzuuw7qkoHhTYaIQDz2ky8bGJw7tbJVRMzMzATxvvjXOBx54sGVVy6JcJuLk7/7d\nH1fkvxdyhWImG1Npsnsi1ui0IrNj9m3n8yRZ85M01nGAyXxMGLaFkWX/7mSRvV1GJaQX4nJJBPGM\nwjTnqnYOSgu4BndtlW0wrd3CiMVbKh1CvV5vc75yH9LxGCDZoCIeNvhMYrLSYYanT5+JTBAPPPBR\n5V+4E8ViGWfPft7hByi1PisnqqgTt1K5J7UPa+fv0lxr7Wh15Qy46qTnNaJkWL6gacLAyJyIvkxE\nr1mvb6qfH7S2yUTmZ8+ebb0ajcZorsQIkRcLo1Mad7aJIF7Po4lyeX+LSE2ctqwN4qrC53Ku2lml\nkkSvIlr1cA4y+Uem7yczH5NZiC7rtVw+rBJxtFN1A2YFoJ2su0H0OJIriCWE4e4ONWIaKBbLMDXU\nTfMJz6so2WWXY6IKIxE/WSbntG73Mq797tjYDzvKEqf7V8Yt0eS59O240Gg0IlzJlvmIkScLo58C\nS0C2SnsmYUW3UOucsJKWJi6t8Gcho1DWE8e1Mx+zFgWTyT02GesMzAairehCSAve1sgrjuqNdZiC\nXnry0c2Yddanrumim0S4Eoh03Lmsk5N18te1bKLnFJ9gdCz67WplEpXG4pEwacZHt0ZJP8Sfp+cm\nrxgHmb+zwzbDPueBoZebM28WRhZCbneeWod2afTNZjNTKnkc6VUcfZh2bSeQtJT3YWbGR7E4l1pL\n5IEHHoRdn+XkyVOJRg+epxtauJy3uka4/Hy0TrvtO2jAdPxxlUXwYKz0q+ozi2r/O6xzcocixr8b\nW7pyX78diEfuEJVbNXN0jHoY7opct7T2cJ1S/V33WT+rUVekD2vmUYwqmuXDRPTnRHSDiP5fIvrt\nNtuO4LT7R683Zx4tjHaEnPU8dWlb26rb2NjoWOQpbV9SR27ECFD//aQiQ5fD1R36ZyYtXxHuIogC\nFAolNJvNlEYPus+mTYhJS9Z0EbIt+jlIC93Vo3OPipm3/QRVBMEiTINmXdslmSRkN1aWRLxbEfGh\nVF+F3GcZ0eqJ86hUDlplAsz11vtJa9y8urqa2Sjp956P34Mcl+4GJw31gEHdnHmzMHoJdwPSCT9Z\nrlWS8oULF1Otfb0vGeaosz91MawmZP0SHWteUe/tUZExTyiNPUowJs78WUXQD6t97AdRiPvu+/GU\ncMQ9ivwAKYP4CWKbmzuC5eVzaiLYD1MpcRNRCz2ZKGXfA6aio658KCNmTEPr6OfX1tbUObXf/9zc\nEbW/k3Blsvp+FfV6PUHMpl68e/9Jyzy9vVw/q9FhGD/TGt7IZN4DBiGVjPOGynrsLOeZ9rCZhz2q\nBZ8//0yiZK4tyyQtyjKkVanllXg9lRrCcHcrosQlSRiyqsPIDdGEoHL5YGLiMZEud8GsDJLnKq1X\nV0NlT41dE/SexPnqrE25jxc6Er92bErH6V64LP94oTOdYevyMeiJNX7dZckFTf7uxs5xeUqvDFzZ\nwb0S8qBlybwEHwwDTOY9II9SSVZ0czNnOc+0hy26DJdRIrqLUFqdl+S+4nqxLraVtC6NvKJ161tb\ncebmPBqKnHfDNJxOZnrqBhJXrlxVtdnLSDo198L3a0qDjzZn0BmrOj4+CHbA8ypOecDUodmvxr0D\nacQcdWxqx6l7gnE5f7WU5ip0Fl8tJqUat+Wdpqmnrbi6XY0O8lmb5Oc2C5jMe0RepZJ2cFtgyegF\nG53Os7NlnpQH0lrKJfcVJ293lcL77vtxK7OyvRVZKCzAyDQ1EO2MjKVSOZiI75Zjto/bAJGPS5cu\nOaNudMXGtBVIu2sXj2SxySY52WnHqW5Ll+ywZB8r7ii1/6+jiOz3stzj3VjOva5GB/Ws5S34YNBg\nMu8DedXe0sYlW3wlI0B0dcFu96eR9rC5/l+v2700NYGVWnHp0drbNUhHoi19VGBCHU07NhmrPa9e\nbsvL7eSMlg5wWWqyM1Co9r0E3ZxjbW0todHr5gzNZufemBsbG0rKML1N5XlrbT7a3i1J/nqlcRk6\necrV5Uc7MuNx6/Fs2F4qIo7K2h3Es8aWOZP5RCFNRjHksi1GZsna1+3QbfKIy6kabymnuxYBmuAO\nKXK7COnkNH09ZTs7/b6ONNElaZMyjG15uSyzYvGAIk+Zdn/y5KnI+HXNlCDQTZdvQRDUcPLkY21D\nOrP0xmw2m6p93Dbo3qbyfO+G3VzC9f1K/bwC398DV60Xe/yS8Pepye9pFItzVmmBbei3088krVIn\naazdgsl8itDO8jBEdlU91PtgNN7sSUKDcB7pMEFXI9+ovq3PxfTkdKemLyCtWYRNUOmyxgvQjR70\n9s1mU9WNiTpFfb+G9fV1az9Go/e8aqpD0dUbU05scYduFXb53nax/Z0I2T1Z6Dj55PXrR3LI6yrV\nhUkaazdgMp8idGrhZghmE1K+aDhJz4VBL1HbPVDSKeiOb7bjq03YnW70fLmVBJNmedmWme/XEIa7\nEsfQ8kO7XpzmOhuHqN3jM0tvzOgqxE7zv6XtZOmeLJKFxdySlk68sse2BO70M/lgMp8idCJcm8iK\nxUqr4l8Q1HD69JmWE9IFl94+SOdRnNw7VRK0w+7sHp263ngnnTetBrsMtatBxqQnmy5ryzwtlFAX\n38oy8Rn/wD3Qaf5BsK3t9wCk15iJFxaTZB4n7kXMzs6h00TQ6fsZNcZ9/EkAk/mUIUv0iR29sLx8\nTjTV2a4AAA6WSURBVC313c2Q9Wdcenu3llynRKFkh6JkjLqrOUYacWZx3sUzX+XfuyGljlJiDMeO\n/TcIwwXIzkVaa49aubrHZ7dRQJ0SqrKcc3y7eBhosVhNJCx1yqgcd2z2uI8/KWAyn0JktWKyartR\nvX0BuqtOXDZoh7R62mnhkqZVmoz0CIID8P1q4oFOk5Y0maYRQFod92i/UF1oaxFSlvrZ2GqhkVg9\n2Nev3fcgm0xHW9kFwd0dxx0ffydHnqsipb7uvd4jWSS5QVnR0x6BMkgwmW9hbGxsOELrpGWZnuVp\nnJFZH6h2VqiLjGVSS9wx6A4hdO07CGqpse/t5BVNQlGSbUImGdURLY+rCXgx0ozZtbJxIa3JdLu2\ncvpaaqJ01cNJu/5p7f46SVGuVP928tqgrehpjw0fJJjMtzCyWuZAfyFdJp7anjQOtzIKXcRqSwFp\njkr9QJ88eQoy/E42WX7ggQcTBKA72Mv63un7S7smktSTlrieJOr1eketW2NzcxNPPfUUCgXdjHoJ\nRAuYmbkJpdLh1POMtumbdzaGzoJOhBt/P96NqV2UzaCtaLbMs4PJfIvjypWrSlftbFn2unxuNtuX\nwk2bKDo5KrVlLh2gNeisTh3R0s6yb5cs5GryYLew6zSptbtOJ08+BrudnEx62rAmCrfT1z3J1JCW\nkJQ2lk7k6Hrf8+YzlZ4dlhU9zbHhgwSTec4xCi9+s9nsyrLsBdHMTuncdEWnpB0/7YFOyyg9ffpM\nW8teW+pZHcVpKfBp43RZvWnSitTkdax4sj4M0K7G+7lU0nSNpRPhpr1fr9c73ofDtKI5mqUzmMxz\njGnz4uu08krlYE/n43qg3eF3ptZLO8ve1tC71ZTTxteOzFZXV5FsSr0XsraKyeJ01YdJl3/cCUZp\nY+nUVKJfQmYrenxgMs8pJk0r7CY6YpAWliv8TldhtNGpfow9YfY6iXayetMt8yDT92xKBCwhXqEx\nLk21c1x2Itx+CXmYVjRb6OlgMs8pJsmLP4oVRBZpIx5+12kfJn7eFMNKi4TJQh5ZJmDprDWa+fHj\nj0Ri0u0wyfiYXeO1q15247jsJB3lkTSnbaU6aDCZ5xSTYpmPYpxZHuJeyMdVDKtc3u/sVpR1Es1i\n1bpCCpvNJh5//AkVYx91trpWDS5ncZrjstMkNwkkOSnPwzjBZJ5jTIL+OOwVRL9JK2kkn6ZBZ03F\n7zTmbieWtBZ7abH18f27vocwPAjPk12J0tL1J4UkJ2mlOi6MqqHzF4joj4noFSL6TSKqttl2BKc9\nOcjjctfGsMmg24c4ayx2WnTI8vI5Z9edbr6Dbr8zGbpZRbyol2kI3fm83ZNT51rtk0KSkzLpjBOj\nIvP3EtGM+v2Xieifttl2+GfNGCiGuYLo5iFOj/hIxmJnibfWhby6kSB0/XMtlWS5FqZ6YvdkbCNL\nRcg4SQ+LJIdhhOjzk82mq5HGHYwRkXlkR0QfJqJ/2eb9YZ8zYwgY5goi62ThtraXWtZtnMyyFCXr\nhuhcUkkWYjTHiRb1On78ka4mSTtfoFMIYnzc/YSMxjFMDb6XyXKrYBxk/iUierjN+8M+Z8YEIstk\n0Y1lnmW/3UgQaVLJ3NyRTJJFmtWZdZJsF2LZbjJIK4DWK4adOMRSSzoGRuZE9GUies16fVP9/KC1\nzS8Q0W922A/Onj3bejUajdFcCcZUoF0qfi/x0lnJI00q8f3OFRTt4/VaLiFtnO32OQxy7FWDz3Lu\nk6LvjwqNRiPClSOzzInoE0T0u0Tkd9hu6BeBMRnoh9w6RbNkRVaJxxDjw4jHkQ879K9XkhsGOfYy\nQWS9PmyZt8eoHKDvJ6I/IqIfyrDt0E+akX/kKfY564RgNPMG7J6incraDmJ8vZDcsMixG4d4t2OY\nhHDdcWFUZP5tInqdiL6uXl9ss+0ITnuykPfwxEFjUi0wV6nfcvkwyuU7hi4N9Epy3X4u672Ydbte\nVgdb7XnICk4ayjnyZKGOCpOqjaZNQsO2zO3j9ytLtcMw7sVJnbjzCCbzHGOr3uiTfN4uS3capIFh\nfifTcH3ygKxkPkuMkePatWvkeYt048Zh9Z/DVCzupGvXrtH27dvHOrZhYvv27fTcc1+kEyfupWJx\nJ7311uv03HNfnIhzfuihB+m9730PXbt2jRYXF1tjdv1vkjDMezHtmjGGAyGJfwQHEgKjOlbecf36\nddq58wDduNEgosNE9BqF4b30+uvf2hI3/PXr1/kBzwm2+r04CRBCEADRabuZUQyGEYW2UMPwXqpW\nj1IY3jtUC/X69ev08ssv0/Xr14ey/26xfft2ete73sVkkQOM+l5kDA9smY8Ro7BQn39+jU6c+Ax5\n3iL99V9fo+ee+yI99NCDQznWoMEW/OjA1zq/yGqZM5lPMSZ5CT3JkxCDMUiwzMJoObckkRPZzq08\n4/r163TixGfoxo0GvfHGH9CNGw06ceIzuZGJRo28yWSMfILJfIqxuCitWllKh4joNXrrrddpcXFx\nfIPKgEmdhIaB559fo507D9D73vcp2rnzAD3//Nq4h8TIKZjMpxiT6tya1Elo0OAVCqMbcJz5lGMS\nY30nOR59kNiq+QiM3sAOUEZusdUjLCbZgc0YHLI6QNkyZ+QW27dv39KkxSsURjdgy5zByDm2+gpl\nq4PjzBmMAYCJlDFucJw5g9EnOCyQMUlgy5zBcICdj4y8gC1zBqMPcOISY9LAZM7oC9Oaas6JS4xJ\nQ19kLoT4JSHEq0KIV4QQXxFC3DaogTHyj2nWlCc1e5axddGXZi6EqAB4U/3+WSK6B8AnU7ZlzXxE\nGEUExlbRlDmahTFujEQz10SuUCai/9jP/hj9Y1TW8lbRlLmRBmNS0Hc0ixDiHxPRx4nou0T0XwF4\nI2U7tsyHjFFay1vFMmcwxo2BWeZCiC8LIV6zXt9UPz9IRATgFwHsIKJfJ6J/1v/QGb1ilNYya8oM\nRr7QsTYLgPdl3NcVIvo37Tb43Oc+1/r92LFjdOzYsYy7ZmRBNAJDWsvDjMCwKzJWKhV688036fr1\n60zoDEYfeOmll+ill17q+nP9OkD3AviO+v2zRPTDAP5+yrYss4wAut2aXZhp2O3WuMUbgzE8jKQ2\nixDiXxHRfiL6PhH9eyL6NIBmyrZM5iPCKCMwWDtnMIaLkZTABfDT/XyeMRyMsnQsN1BgMPIBzgBl\n9AXOlGQw8gEmc0Zf4KiWwWNaSyQwhguumsgYCDhTcjBgZzIjDm5OwWBMGNiZzHCBS+AyGBOGrVIi\ngTEcMJkzGDkBO5MZ/YDJnMHICdiZzOgHrJkzGDkDO5MZNtgBymAwGFMAdoAyGAzGFgKTOYPBYEwB\nmMwZDAZjCsBkzmAwGFMAJnMGg8GYAjCZMxgMxhSAyZzBYDCmAEzmDAaDMQVgMmcwGIwpAJM5g8Fg\nTAEGQuZCiJ8TQvxACLEwiP0xGAwGozv0TeZCiNuI6H1E9Hr/wxk/XnrppXEPIRN4nIPDJIyRiMc5\naEzKOLNiEJb5rxLRzw9gP7nApHzBPM7BYRLGSMTjHDQmZZxZ0ReZCyHuJ6I/B/DNAY2HwWAwGD1g\nttMGQogvE9HN9r+ICET0i0R0hqTEYr/HYDAYjBGj53rmQoiDRPQVIvouSRK/jYj+AxH9MICmY3su\nZs5gMBg9YKTNKYQQ/xcRHQXwnwayQwaDwWBkxiDjzEEsszAYDMZYMLK2cQwGg8EYHsaSAZr3JCMh\nxC8JIV4VQrwihPiKiqXPFYQQXxBC/LEa428KIarjHpMLQoifFkL8oRDi+0KIo+MeTxxCiPcLIb4l\nhPhTIcTj4x6PC0KI54QQfymEeG3cY2kHIcRtQoivCiH+SAjxTSHEqXGPKQ4hhC+E+H0hxDfUOP/J\nuMfUDkKIGSHE14UQX+q07cjJfEKSjL4A4B4AR4jot4joc2Mejwv/jojuVmP8NhE9MebxpOGbRPQR\nIvrauAcShxBihoj+RyK6j4juJqKHhBAHxjsqJ36d5Bjzjr8hop8FcDcR/ddE9N/n7XoC+B4R3Qtg\niYgOE9F7hBDvHvOw2uExItrMsuE4LPPcJxkBeNP6s0xE/3FcY0kDgK8A+IH68/dIRhPlDgD+BMC3\nKZ/+lB8mom8DeB3AW0R0lYg+NOYxJQBgnYhyH1gA4C8AvKJ+f5OI/piIbh3vqJIA8F31q0+SA3N5\nbZXh+wEi+rUs24+UzCcpyUgI8Y+FEH9GRJ8gon865uF0wnEi+u1xD2ICcSsR/bn19/9NOSSfSYQQ\nYpGIjhDR7493JEko6eIbRPQXRPQSgEyW7xigDd9Mjs2OSUPdYlKSjNqM8xcAvAjgF4noF5WO+s+I\n6B/kbYxqm18gorcAXBn1+FqDyjBOxtaBEKJCRP+KiB6LrXJzAbWiXVJ+pn8nhPgxALmSAYUQP0FE\nfwngFSHEMcrAlQMncwDvc/1fJRktEtGrQgidZPQHQghnktGwkTZOB64Q0b8Z5ljS0GmMQohPkFyG\nvWckA0pBF9cyb/gPRLTD+lsnvjF6hBBiliSR/0sAvzXu8bQDgP8shPjXRPS3KH8+nXcT0f1CiA8Q\nUUhEc0KIfwHg42kfGJnMAuAPAbwdwG4Au0guaZfGQeSdIITYa/35YSJ6ZVxjSYMQ4v0kl2D3K6fO\nJCBvuvnLRLRXCLFTCOER0UeJqGPUwJggKH/Xz4X/mYg2AfwP4x6IC0KItwkh5tXvIUmlIHfPN4Az\nAHYA2E3yvvxqOyInGm9zijwnGf2yEOI1pasdI6KfG/N4XPjnRFQhoi+r0KUvjntALgghPiyE+HMi\n+ttE9L8JIXKj7QP4PhGdJBkZ9EdEdBXAH493VEkIIa4Q0f9BRPuFEH8mhBi55JcFKirkvyMZIfIN\ndV++f9zjiuEWImqoZ/v3iOhLAH5nzGMaCDhpiMFgMKYA3DaOwWAwpgBM5gwGgzEFYDJnMBiMKQCT\nOYPBYEwBmMwZDAZjCsBkzmAwGFMAJnMGg8GYAjCZMxgMxhTg/wdZibYrs4rOPAAAAABJRU5ErkJg\ngg==\n",
      "text/plain": [
       "<matplotlib.figure.Figure at 0x10a72c4e0>"
      ]
     },
     "metadata": {},
     "output_type": "display_data"
    }
   ],
   "source": [
    "from scipy.stats import multivariate_normal\n",
    "\n",
    "cov = np.array([[1,0],[0,1]])\n",
    "\n",
    "mvn = multivariate_normal(mean = [0,0],cov=cov)\n",
    "\n",
    "X = mvn.rvs(size = 1000)\n",
    "print(X.shape)\n",
    "plt.scatter(X[:,0],X[:,1])"
   ]
  },
  {
   "cell_type": "code",
   "execution_count": null,
   "metadata": {
    "collapsed": true
   },
   "outputs": [],
   "source": []
  }
 ],
 "metadata": {
  "kernelspec": {
   "display_name": "Python 3",
   "language": "python",
   "name": "python3"
  },
  "language_info": {
   "codemirror_mode": {
    "name": "ipython",
    "version": 3
   },
   "file_extension": ".py",
   "mimetype": "text/x-python",
   "name": "python",
   "nbconvert_exporter": "python",
   "pygments_lexer": "ipython3",
   "version": "3.7.0"
  }
 },
 "nbformat": 4,
 "nbformat_minor": 1
}
