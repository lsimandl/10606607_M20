{
 "cells": [
  {
   "cell_type": "markdown",
   "metadata": {},
   "source": [
    "# Probability\n",
    "\n",
    "Based on Geoff Gordon's [probability lecture notes](https://qna.cs.cmu.edu/#/pages/view/168), [Random variables lecture notes](https://qna.cs.cmu.edu/#/pages/view/171), [Mean and Variance lecture notes](https://qna.cs.cmu.edu/#/pages/view/173), [Factorizing distributions lecture notes](https://qna.cs.cmu.edu/#/pages/view/174) and [Matt Gormley's Slides](http://www.cs.cmu.edu/~mgormley/courses/606-607-f18/slides606/lecture13-final.pdf).\n",
    "\n",
    "### Events\n",
    "\n",
    "\\begin{array}{c|c|c|c|c} & & \\text{example 1 (coin)}&\\text{example 2 (dice)} & \\text{example 3 (two coins)}\\\\\n",
    "\\hline\n",
    "\\text{universe}& \\Omega &\\{ H, T\\} & \\{1,2,3,4,5,6\\} & \\{HH, HT, TH, TT\\}\\\\\n",
    "\\text{event}& X\\subseteq\\Omega & H & \\{3,4\\} & \\{HT\\} \\\\\n",
    "\\text{outcome}& \\omega\\in\\Omega & H & 1 & HH \\\\\n",
    "\\text{probability}& P(E) &P(\\{H\\})=0.5&P(\\{3\\})=1/6&P(\\{HT\\})=1/6\\\\\n",
    "\\end{array}\n",
    "\n",
    "We use probability to talk about a model of what we think might happen when we conduct experiments. The experiment has multiple outcomes. The universe is the space of all possible outcomes. Events can be **atomic** (corresponding to only one possible outcome) or **compound** (corresponding to a subset of the space). \n",
    "\n",
    "\n",
    "We have:\n",
    "* The complement of an event $E$ is the event that $E$ does not occur. $P(E) +P(\\neg E)$. The complement is also denoted by $\\text{~}E$ and $\\bar E$.\n",
    "* if $E$ is a compound event, then $P(E) = \\textstyle \\sum_{a\\in E} P(a)$\n",
    "* $P(\\Omega) = 1$.\n",
    "* $0\\le P(E)\\le 1$.\n",
    "* $P(True) = 1$.\n",
    "* $P(False) = 1$.\n",
    "\n",
    "\n",
    "### Disjoint union\n",
    "\n",
    "If $A$ and $B$ are disjoint events (aka mutually exclusive), i.e. $A\\cap B=\\emptyset$, then the disjoint union rule states that:\n",
    "$$P(A\\cup B) = P(A)+P(B)$$.\n",
    "\n",
    "Also works for multiple disjoint events $A\\cap B=\\emptyset$ for $i\\ne j$:\n",
    "$$\\textstyle P\\left (\\bigcup_i A_i\\right ) = \\sum_i P(A_i)\\,.$$\n",
    "\n",
    "\n"
   ]
  },
  {
   "cell_type": "code",
   "execution_count": 6,
   "metadata": {
    "collapsed": false
   },
   "outputs": [
    {
     "data": {
      "image/png": "[encoded data removed]",
      "text/plain": [
       "<matplotlib.figure.Figure at 0x109c3d470>"
      ]
     },
     "metadata": {},
     "output_type": "display_data"
    }
   ],
   "source": [
    "import matplotlib.pyplot as plt\n",
    "from matplotlib_venn import venn2\n",
    "import matplotlib.patches as patches\n",
    "\n",
    "fig,ax = plt.subplots()\n",
    "venn2(subsets = (10, 10, 0), set_labels = ('P(A)', 'P(B)'),ax=ax)\n",
    "plt.show();"
   ]
  },
  {
   "cell_type": "markdown",
   "metadata": {},
   "source": [
    "### Non-disjoint union\n",
    "\n",
    "If $A\\cap B \\ne \\emptyset$, then:\n",
    "\n",
    "$$P(A\\cup B) = P(A)+P(B) - P(A\\cap B)$$\n",
    "\n",
    "\n",
    "This can be computed by splitting  $P(A\\cup B)$ into three sets:\n",
    "\n",
    "$$P(A\\cup B) = P(A\\setminus B) + P(A\\cap B) + P(B\\setminus A)$$\n",
    "\n",
    "Given $P(A) = P(A\\setminus B) + P(A\\cap B)$ and $P(B) = P(B\\setminus A) + P(A\\cap B)$\n",
    "\n",
    "\n",
    "\\begin{eqnarray}\n",
    "P(A) +P(B) &=& P(A\\setminus B) + P(B\\setminus A)+ 2P(A\\cap B)\\\\\n",
    "&=& P(A \\cup B) + P(A\\cap B)\n",
    "\\end{eqnarray}\n",
    "\n",
    "Which gives the two useful formulas:\n",
    "$$P(A\\cup B) = P(A)+P(B) - P(A\\cap B)$$\n",
    "and\n",
    "$$P(A\\cap B) = P(A)+P(B) - P(A\\cup B)$$\n"
   ]
  },
  {
   "cell_type": "code",
   "execution_count": 7,
   "metadata": {
    "collapsed": false
   },
   "outputs": [
    {
     "data": {
      "image/png": "[encoded data removed]",
      "text/plain": [
       "<matplotlib.figure.Figure at 0x109e318d0>"
      ]
     },
     "metadata": {},
     "output_type": "display_data"
    }
   ],
   "source": [
    "import matplotlib.pyplot as plt\n",
    "from matplotlib_venn import venn2\n",
    "import matplotlib.patches as patches\n",
    "\n",
    "fig,ax = plt.subplots()\n",
    "venn2(subsets = (10, 10, 3), set_labels = ('P(A)', 'P(B)'),ax=ax)\n",
    "plt.show();"
   ]
  },
  {
   "cell_type": "markdown",
   "metadata": {
    "collapsed": false
   },
   "source": [
    "### Kolmogorov's Axioms\n",
    "\n",
    "1- $P(E) \\ge 0$ for all events $E$\n",
    "\n",
    "2- P(\\Omega) = 1\n",
    "\n",
    "3- if $E_1$, $E_2$ .. are disjoint, then \n",
    "$\\textstyle P\\left (\\bigcup_i E_i\\right ) = \\sum_i P(E_i)\\,.$\n",
    " \n",
    "### Sum Rule\n",
    "\n",
    "For any two events $A$ and $B$:\n",
    "\n",
    "$$P(A) = P(A\\cup B) + P(A\\cup\\neg B)$$\n",
    "\n",
    "\n",
    "### Exercise \n",
    "From [notes](https://qna.cs.cmu.edu/#/pages/view/168):\n",
    "\"Consider the following experiment: you stand on a street corner in Pittsburgh and survey people.  You ask two questions: \"Do you like computer science?\" and \"Do you like the Steelers?\"  You find that 67% of passers by respond \"yes\" to the first question, and 90% of passers by respond \"yes\" to the second question.  Furthermore, 65% of passers by respond \"yes\" to both questions.\n",
    "\n",
    "What is the probability of finding a person who responds \"no\" to both questions?}"
   ]
  },
  {
   "cell_type": "markdown",
   "metadata": {
    "collapsed": true
   },
   "source": [
    "# Random Variables\n",
    "\n",
    "\\begin{array}{c|c|c|c|c} & & \\text{example 1 (coin)}&\\text{example 2 (dice)} & \\text{example 3 (two coins)}\\\\\n",
    "\\hline\n",
    "\\text{universe}& \\Omega &\\{ H, T\\} & \\{1,2,3,4,5,6\\} & \\{HH, HT, TH, TT\\}\\\\\n",
    "\\text{event}& X\\subseteq\\Omega & H & \\{3,4\\} & \\{HT\\} \\\\\n",
    "\\text{outcome}& \\omega\\in\\Omega & H & 1 & HH \\\\\n",
    "\\text{probability}& P(E) &P(\\{H\\})=0.5&P(\\{3\\})=1/6&P(\\{HT\\})=1/6\\\\\n",
    "\\text{random variable} & X & \\text{value of coin} & \\text{value of top of die} &\\text{values of both coins} \\\\\n",
    "\\end{array}\n",
    "\n",
    "We denote $X$ (capital) a random variable who's possible values are the outcome of the experiment. We can also define it as a function: $X: \\Omega\\rightarrow E$.\n",
    "\n",
    "The value that $X$ takes is refered to as $x$ (lower case).\n",
    "\n",
    "If $X$ is a discrete random variable, it has a **probability mass function** (pmf), giving the probability of the values that $X$ takes: \n",
    "$$p(x) := P(X=x).$$\n",
    "\n",
    "If $X$ is acontinuous random variable (it's value comes from an interval or collection of intervals), then it has a **probability density function** (pdf) $f(x)$. \n",
    "* the pdf $f(x)$ is a nonnegative real number indicating the relative likelihood of $X$ taking value $x$.\n",
    "* for any continuous random variable $P(X=x) = 0$.\n",
    "* Non-zero probabilities are only defined for intervals:\n",
    "$$ P(a\\le X\\le b) = \\int_a^b f(x) dx$$\n",
    "\n",
    "\n",
    "A **cummulative distribution function** $F(x)$ returns the probability that a variable $X$ is less or equal to $x$:\n",
    "$$F(X) = P(X\\le x)$$\n",
    "\n",
    "For discrete random variables:\n",
    "$$F(X) = P(X\\le x) = \\sum_{x\\le x'} P(X= x') = \\sum_{x\\le x'} p(x')$$\n",
    "\n",
    "For continuous random variables:\n",
    "$$F(X) = P(X\\le x) = \\int_{-\\inf}^x f(x') dx'$$\n",
    "\n",
    "\n",
    "#### Events and random variables\n",
    "\n",
    "We defined $P(E)$ as a function mapping probabilities to events and now we are writing $P(X=x)$: we are thinking of $X=x$ is an event, and P(X=x) is a shorthand:\n",
    "\n",
    "$$P(X=x) \\equiv P(\\{ \\omega \\in \\Omega: X(\\omega) = x\\})$$\n",
    "\n",
    "Another type of event is $X\\le 7$:\n",
    "\n",
    "$$P(X\\le 7) \\equiv P(\\{ \\omega \\in \\Omega: X(\\omega) \\le 7 \\})$$\n",
    "\n",
    "#### Other notational shortcuts:\n",
    "\n",
    "$P(A|B) = \\frac{P(A,B)}{P(B)}$ is equivalent to having, for all values of $a$ and $b$:  $P(A=a|B=b) = \\frac{P(A=a,B=b)}{P(B=b)}$"
   ]
  },
  {
   "cell_type": "markdown",
   "metadata": {},
   "source": [
    "### Probability tables\n",
    "\n",
    "$$\\begin{array}{c|c} a &p(\\{a\\}) \\\\ \\hline \n",
    "5'3''& 0.08\\\\\n",
    "5'4''& 0.105\\\\\n",
    "\\vdots & \\vdots \\end{array}$$\n",
    "\n",
    "### Joint distribution\n",
    "\n",
    "We can have multiple random variables in the same experiment. The universe then corresponds to the set of all possible joint settings of the different variable. Each atomic event is a setting for one of the variables. For example, \n",
    "$$\\text{height} = \\text{5'3\"}  \\wedge \\text{eye color} = \\text{brown},$$\n",
    "is an atomic event.\n",
    "\n",
    "We can write the probability table by using multiple dimentions:\n",
    "\n",
    "$$\\begin{array}{c|ccc} & \\text{brown} & \\text{blue} & \\text{green} \\\\ \\hline 5'3'' & .05 & .02 & .01 \\\\ 5'4'' & .06 & .025  & .02\\\\ \\vdots & & \\vdots & \\end{array}$$\n",
    "\n",
    "We can also write the probability table as a list to avoid dealing with more than 2 dimensions:\n",
    "\n",
    "$$\\begin{array}{cc|c} \\text{height}  & \\text{eye color} & P \\\\ \\hline 5'3''  & \\text{brown} & .03 \\\\ 5'3'' & \\text{blue} & .02 \\\\ 5'3'' &  \\text{green} & .01 \\\\ & \\vdots & \\vdots \\end{array}$$\n",
    "\n",
    "### Marginal distribution\n",
    "\n",
    "Given a joint distribution over multiple random variables, the dsitribution for a subset of variables is called the marginal and is obtained by marginalizing out the other variables. For each configuration of the variables we want to keep, we sum the probabilities over all the variables we want to marginalize out. \n",
    "\n",
    "For example, to obtain the marginal distribution for height, we sum over the three eye colors for each height value:\n",
    "\n",
    "$$\\begin{array}{cccc} 5'3'' & .08 \\\\ 5'4'' & .105 \\\\ \\vdots & \\vdots \\end{array}$$\n",
    "\n",
    "### Conditional distribution\n",
    "\n",
    "A conditional distribution corresponds to fixing the probability of a subset of variables when fixing the value of another set of variables. To obtain it, we keep the values in the table that are consistent with the variables we fix the values for, then we normalize the remaining entries by the sum of these entries.\n",
    "\n",
    "For example, the conditional distibution of eye color given a height of $5'3''$ is:\n",
    "$$\\begin{array}{ccc} \\text{brown} & \\text{blue} & \\text{green} \\\\  .625 & .25 & .125 \\end{array}$$\n",
    "\n",
    "We write conditional distrubtions of $X$ and $Y$ given $Z$ and $W$ as $P(X,Y|Z,W)$. We can write:  $P(X=x,Y=y|Z=z,W=w)$ for specific values $x$, $y$, $z$ and $w$. If we don't, then we have a table (in this case a 4D table). \n",
    "\n",
    "### Exercise\n",
    "\n",
    "From [notes](https://qna.cs.cmu.edu/#/pages/view/171):\n",
    "\"Suppose we have three random variables:\n",
    "\n",
    "$X\\in\\{1,2\\}$, $Y\\in\\{1,2,3\\}$, $Z\\in\\{1,2,3,4,5\\}$.\n",
    "Build a joint probability table according to the following rule:\n",
    "\n",
    "$P(X,Y,Z)=\\nu(X+Y+Z)$\n",
    "\n",
    "Solve for the normalizing factor $\\nu$ using the rule that $\\sum_X\\sum_Y\\sum_Z P(X,Y,Z)=1$.\n",
    "\n",
    "What is the probability of the event $Y=2$?\n",
    "\n",
    "Now condition on Y=2 to get a table of P(X,Z∣Y=2).\n",
    "\n",
    "What is the probability that Z≥4 given Y=2?"
   ]
  },
  {
   "cell_type": "code",
   "execution_count": null,
   "metadata": {
    "collapsed": true
   },
   "outputs": [],
   "source": []
  }
 ],
 "metadata": {
  "kernelspec": {
   "display_name": "Python 3",
   "language": "python",
   "name": "python3"
  },
  "language_info": {
   "codemirror_mode": {
    "name": "ipython",
    "version": 3
   },
   "file_extension": ".py",
   "mimetype": "text/x-python",
   "name": "python",
   "nbconvert_exporter": "python",
   "pygments_lexer": "ipython3",
   "version": "3.5.2"
  }
 },
 "nbformat": 4,
 "nbformat_minor": 0
}
