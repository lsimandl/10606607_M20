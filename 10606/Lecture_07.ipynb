{
 "cells": [
  {
   "cell_type": "markdown",
   "metadata": {},
   "source": [
    "# Lecture 7: Linear equations; Scalar, Vector and Matrix derivatives\n",
    "\n",
    "\n",
    "Based on: Geoff Gordon's  [Matrices and Linear Operators lecture notes](https://qna.cs.cmu.edu/#/pages/view/184) and Zico Kolter's [Linear Algebra Review and Reference notes](http://www.cs.cmu.edu/~zkolter/course/linalg/linalg_notes.pdf).\n",
    "\n",
    "\n",
    "Factorization such as $A=BC$ are useful if the matrices $B$ and $C$ have useful properties, such as being simple to invert. \n",
    "\n",
    "We saw 3 examples of factorizations:\n",
    "\n",
    "\n",
    "#### LU decomposition \n",
    "\n",
    "\n",
    "LU composition factorizes a matrix into two triangular matrices, one lower triangular and one upper triangular (we consider square matrices):\n",
    "\n",
    "$$\n",
    "\\text{example } A\\in \\mathbb{R^{4\\times 4}}\\\\\n",
    "~\\\\\n",
    "A = LU\\\\\n",
    "~\\\\\n",
    "L = \\left[\n",
    "    \\begin{array}{cccc}\n",
    "    l_{11} & 0 &&0   \\\\\n",
    "    l_{21} & l_{22} &0&0  \\\\\n",
    "    l_{31} & l_{32} & l_{33}&0  \\\\\n",
    "    l_{41} & l_{42} &l_{43}&l_{44}  \n",
    "    \\end{array}\n",
    "    \\right], ~ ~ ~\n",
    "  U= \\left[\n",
    "    \\begin{array}{cccc}\n",
    "    u_{11}   & u_{12}  & u_{13}  & u_{14}    \\\\\n",
    "    0 &u_{22}  & u_{23}  & u_{24}     \\\\\n",
    "    0 &0& u_{33}  & u_{34}    \\\\\n",
    "   0 &0&0 & u_{44}     \n",
    "    \\end{array}\n",
    "    \\right].\n",
    "    $$\n",
    "    \n",
    " If A is symmetric and positive definite, then the LU factorization can be simplified to:\n",
    " $$\n",
    " A = LL^\\top\\\\,\n",
    " $$\n",
    " which is the Cholesky decomposition.\n",
    " \n",
    " \n",
    "#### Eigenvalue decomposition \n",
    "\n",
    "A symmetric matrix can be decomposed into:\n",
    "$$\n",
    "A = U\\Lambda U^T\n",
    "$$\n",
    "\n",
    "where $U$ is an orthogonal matrix where each column $i$ is the $i$'s eigenvector of $A$ and $\\Lambda$ a diagonal matrix with diagonal entry $i$ corresponding to the $i$'s eigenvalue of A. The eigenvalues are sorted from the largest to the smallest. The rank of A is equal to the number of non-zero eigenvalues. The $i^{th}$ eigenvector and eigenvalue or $A$ are related by:\n",
    "\n",
    "$$\n",
    "Au_i = \\lambda_iu_i \\\\\n",
    "$$\n",
    "\n",
    "#### Singular value decomposition \n",
    "\n",
    "Any matrix $A$ can be written as:\n",
    "$$\n",
    "A = USV^T\n",
    "$$\n",
    "\n",
    "Where the columns of $U$ are pairwise orthogonal, consisting of the left singular vectors of A, $S$ is a diagonal matrix with the singular values of $A$ as diagonal elements and $V$ is an orthogonal matrix with the right singular vectors of $A$ as columns. All singular values are $\\ge0$, and the $i^{th}$ left singular vector, singular value and right singular vector are related by:\n",
    "\n",
    "$$\n",
    "Av_i = s_iu_i \\\\\n",
    "\\text{and}\\\\\n",
    "A^\\top u_i = s_iv_i \\\\\n",
    "$$\n",
    "\n",
    "If $A$ is a symmetric matrix, then there is a one-to-one correspondance between it's eigenvectors, left singular vectors and right singular vectors (up to sign flipping). The singular values are equal to the absolute value of the eigenvalues. The eigenvalue and singular value decomposition are very closely related in this case.\n",
    " \n"
   ]
  },
  {
   "cell_type": "markdown",
   "metadata": {},
   "source": [
    "### Solving linear systems \n",
    "\n",
    "The matrix factorization methods allow us to find better ways to invert a matrix. We compare here the behavior of usual matrix inversion with matrix inversion using the factorization."
   ]
  },
  {
   "cell_type": "code",
   "execution_count": 1,
   "metadata": {
    "collapsed": false
   },
   "outputs": [
    {
     "name": "stdout",
     "output_type": "stream",
     "text": [
      "10\n"
     ]
    }
   ],
   "source": [
    "import numpy as np\n",
    "import matplotlib.pyplot as plt\n",
    "%matplotlib inline\n",
    "from scipy.stats import multivariate_normal\n",
    "# from scipy.linalg import toeplitz\n",
    "import time\n",
    "\n",
    "A = np.random.normal(size = (10,10))\n",
    "# get symmetric matrix, (gram matrix)\n",
    "A = A.T.dot(A)\n",
    "# verify rank \n",
    "print(np.linalg.matrix_rank(A))"
   ]
  },
  {
   "cell_type": "code",
   "execution_count": 10,
   "metadata": {
    "collapsed": false
   },
   "outputs": [
    {
     "name": "stdout",
     "output_type": "stream",
     "text": [
      "[[ 46.08354502 -17.59423516 -36.09113964  28.80463522]\n",
      " [-17.59423516   6.97247579  13.99964044 -11.08290473]\n",
      " [-36.09113964  13.99964044  29.02334373 -22.85389976]\n",
      " [ 28.80463522 -11.08290473 -22.85389976  18.28457806]]\n",
      "[[ 46.08354502 -17.59423516 -36.09113964  28.80463522]\n",
      " [-17.59423516   6.97247579  13.99964044 -11.08290473]\n",
      " [-36.09113964  13.99964044  29.02334373 -22.85389976]\n",
      " [ 28.80463522 -11.08290473 -22.85389976  18.28457806]]\n"
     ]
    }
   ],
   "source": [
    "from numpy.linalg import inv, svd, cholesky, eig\n",
    "\n",
    "inverse = inv(A)\n",
    "u,s,vt = svd(A)\n",
    "v= vt.T\n",
    "s_inv = np.diag(1/s)\n",
    "inverse_2 = v.dot(s_inv).dot(u.T)\n",
    "\n",
    "print(inverse[:4,:4])\n",
    "\n",
    "print(inverse_2[:4,:4])\n"
   ]
  },
  {
   "cell_type": "markdown",
   "metadata": {},
   "source": [
    "### Pseudoinverse\n",
    "\n",
    "If $A$ is not invertible, we can find an approximate solution to $Ax=B$ by setting:\n",
    "\n",
    "$$\n",
    "x = A^\\dagger b\\,\n",
    "$$\n",
    "\n",
    "where $ A^\\dagger = VS^\\dagger U^T $ and  $S^\\dagger$   is a diagonal matrix with $S^{−1}_{ii}$ on the diagonal where possible, and zero where $S_{ii}=0$."
   ]
  },
  {
   "cell_type": "markdown",
   "metadata": {},
   "source": [
    "# Matrix differentials\n",
    "\n"
   ]
  },
  {
   "cell_type": "markdown",
   "metadata": {
    "collapsed": true
   },
   "source": [
    "### Quick review\n",
    "\n",
    "The derivative of $x^3−2x^2$ is:\n",
    "\n",
    "* a.   $x^2−2x$\n",
    "* b.    $3x^2−4x$\n",
    "* c.   $3x^2$\n",
    "* d.    $x^2−2$\n",
    "\n",
    "\n",
    "The derivative of $\\sin(3x)+\\cos(x)$ is\n",
    "\n",
    "* a. $3\\sin(x)+\\sin(x)$\n",
    "* b. $−3\\sin(3x)+\\cos(x)$\n",
    "* c. $3\\sin(3x)−\\cos(x)$\n",
    "* d. $3\\cos(3x)−\\sin(x)$\n",
    "\n",
    "\n",
    "The derivative of $\\cos(x^2+2)$ is\n",
    "\n",
    "* a. $−2x\\sin(x^2+2)$\n",
    "* b. $−\\sin(2x)$\n",
    "* c. $\\cos(2x)$\n",
    "* d. $x^2+2$\n",
    "\n",
    "\n",
    "True or false: the derivative of $3x^2\\cos(x)$ is $−6x\\sin(x)$.\n",
    "\n",
    "* a.  True\n",
    "* b.  False\n",
    "\n"
   ]
  },
  {
   "cell_type": "code",
   "execution_count": null,
   "metadata": {
    "collapsed": true
   },
   "outputs": [],
   "source": []
  },
  {
   "cell_type": "markdown",
   "metadata": {},
   "source": [
    "### Example total and partial derivative:\n",
    "[from wikipedia](https://en.wikipedia.org/wiki/Partial_derivative#Geometry)\n",
    "\n",
    "The volume of a cone depends on it's height $h$ and on it's radius $r$:\n",
    "$$\n",
    "V(r, h) = \\frac{\\pi r^2 h}{3}.\n",
    "$$\n",
    "\n",
    "The partial derivative of the volume with respect to $r$ is:\n",
    "$$\n",
    "{\\displaystyle {\\frac {\\partial V}{\\partial r}}={\\frac {2\\pi rh}{3}}.}\n",
    "$$\n",
    "\n",
    "\n",
    "The total derivative of the volume with respect to $r$ is:\n",
    "$$\n",
    "{\\displaystyle {\\frac {dV}{dr}}=\\overbrace {\\frac {2\\pi rh}{3}} ^{\\frac {\\partial V}{\\partial r}}+\\overbrace {\\frac {\\pi r^{2}}{3}} ^{\\frac {\\partial V}{\\partial h}}{\\frac {d h}{d \n",
    "r}}}\n",
    "$$"
   ]
  },
  {
   "cell_type": "markdown",
   "metadata": {},
   "source": [
    "Product rule example"
   ]
  },
  {
   "cell_type": "code",
   "execution_count": null,
   "metadata": {
    "collapsed": true
   },
   "outputs": [],
   "source": []
  }
 ],
 "metadata": {
  "kernelspec": {
   "display_name": "Python 3",
   "language": "python",
   "name": "python3"
  },
  "language_info": {
   "codemirror_mode": {
    "name": "ipython",
    "version": 3
   },
   "file_extension": ".py",
   "mimetype": "text/x-python",
   "name": "python",
   "nbconvert_exporter": "python",
   "pygments_lexer": "ipython3",
   "version": "3.5.2"
  }
 },
 "nbformat": 4,
 "nbformat_minor": 1
}
